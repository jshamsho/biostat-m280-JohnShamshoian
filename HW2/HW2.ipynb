{
 "cells": [
  {
   "cell_type": "code",
   "execution_count": 91,
   "metadata": {
    "collapsed": false
   },
   "outputs": [
    {
     "data": {
      "text/plain": [
       "1000×10000 Array{Float64,2}:\n",
       " 0.0  0.0  1.0  2.0  2.0  2.0  2.0  0.0  …  0.0  1.0  1.0  0.0  2.0  2.0  1.0\n",
       " 2.0  2.0  1.0  2.0  1.0  0.0  1.0  2.0     2.0  2.0  0.0  0.0  0.0  0.0  2.0\n",
       " 1.0  2.0  0.0  0.0  2.0  1.0  0.0  1.0     1.0  2.0  1.0  0.0  1.0  0.0  0.0\n",
       " 0.0  2.0  0.0  2.0  2.0  0.0  1.0  1.0     1.0  2.0  0.0  0.0  1.0  0.0  2.0\n",
       " 1.0  2.0  0.0  2.0  0.0  0.0  0.0  0.0     0.0  1.0  2.0  0.0  0.0  1.0  0.0\n",
       " 2.0  1.0  1.0  2.0  1.0  0.0  2.0  0.0  …  1.0  2.0  0.0  1.0  1.0  2.0  2.0\n",
       " 1.0  2.0  1.0  1.0  1.0  1.0  2.0  0.0     2.0  0.0  2.0  1.0  0.0  1.0  1.0\n",
       " 2.0  0.0  2.0  2.0  0.0  2.0  2.0  2.0     1.0  0.0  2.0  0.0  2.0  0.0  2.0\n",
       " 1.0  1.0  0.0  0.0  0.0  2.0  0.0  1.0     2.0  2.0  1.0  1.0  2.0  1.0  1.0\n",
       " 2.0  2.0  1.0  1.0  0.0  2.0  1.0  2.0     0.0  2.0  0.0  0.0  2.0  1.0  2.0\n",
       " 1.0  2.0  2.0  0.0  1.0  2.0  1.0  1.0  …  2.0  1.0  1.0  1.0  2.0  1.0  2.0\n",
       " 0.0  2.0  2.0  1.0  1.0  2.0  0.0  1.0     0.0  2.0  1.0  1.0  0.0  0.0  0.0\n",
       " 2.0  2.0  1.0  0.0  2.0  0.0  2.0  0.0     2.0  1.0  1.0  2.0  1.0  1.0  0.0\n",
       " ⋮                        ⋮              ⋱            ⋮                      \n",
       " 2.0  0.0  0.0  1.0  2.0  2.0  1.0  0.0     0.0  1.0  2.0  2.0  2.0  1.0  1.0\n",
       " 0.0  2.0  0.0  0.0  2.0  2.0  1.0  2.0     0.0  0.0  0.0  0.0  1.0  2.0  0.0\n",
       " 2.0  0.0  0.0  2.0  2.0  2.0  1.0  2.0  …  0.0  0.0  0.0  2.0  0.0  2.0  0.0\n",
       " 2.0  1.0  2.0  2.0  0.0  0.0  0.0  1.0     2.0  1.0  0.0  0.0  0.0  2.0  1.0\n",
       " 0.0  2.0  2.0  2.0  0.0  2.0  1.0  0.0     1.0  1.0  2.0  0.0  2.0  0.0  2.0\n",
       " 2.0  0.0  0.0  2.0  2.0  2.0  1.0  2.0     0.0  1.0  1.0  1.0  2.0  1.0  1.0\n",
       " 0.0  1.0  0.0  0.0  2.0  2.0  1.0  1.0     1.0  0.0  1.0  0.0  2.0  2.0  0.0\n",
       " 1.0  0.0  1.0  0.0  0.0  0.0  2.0  1.0  …  1.0  0.0  2.0  2.0  1.0  2.0  1.0\n",
       " 2.0  2.0  1.0  2.0  1.0  2.0  2.0  0.0     0.0  1.0  1.0  0.0  1.0  0.0  2.0\n",
       " 0.0  1.0  1.0  1.0  0.0  2.0  0.0  0.0     1.0  1.0  1.0  1.0  1.0  1.0  0.0\n",
       " 0.0  0.0  2.0  2.0  1.0  0.0  0.0  2.0     0.0  2.0  0.0  1.0  0.0  1.0  2.0\n",
       " 2.0  0.0  2.0  0.0  2.0  0.0  0.0  0.0     0.0  2.0  0.0  2.0  1.0  1.0  0.0"
      ]
     },
     "execution_count": 91,
     "metadata": {},
     "output_type": "execute_result"
    }
   ],
   "source": [
    "#using BenchmarkTools\n",
    "srand(280) # seed\n",
    "X = rand(0.0:2.0, 1000, 10000)"
   ]
  },
  {
   "cell_type": "code",
   "execution_count": 27,
   "metadata": {
    "collapsed": false
   },
   "outputs": [],
   "source": [
    "using BenchmarkTools"
   ]
  },
  {
   "cell_type": "code",
   "execution_count": 80,
   "metadata": {
    "collapsed": false
   },
   "outputs": [
    {
     "name": "stderr",
     "output_type": "stream",
     "text": [
      "WARNING: Method definition naive("
     ]
    },
    {
     "data": {
      "text/plain": [
       "naive (generic function with 1 method)"
      ]
     },
     "execution_count": 80,
     "metadata": {},
     "output_type": "execute_result"
    },
    {
     "name": "stderr",
     "output_type": "stream",
     "text": [
      "Array{Float64, 2}) in module Main at In[78]:2 overwritten at In[80]:2.\n"
     ]
    }
   ],
   "source": [
    "function naive(X::Matrix{Float64})\n",
    "    n = size(X, 1)\n",
    "    m = size(X, 2)\n",
    "    ematrix = Matrix{Float64}(n, n)\n",
    "    phi = Matrix{Float64}(n, n)\n",
    "    p = sum(X, 1) / (2.0 * n)\n",
    "    pnorm = norm(p)^2\n",
    "    pnorm2 = norm(1 - p)^2\n",
    "    for j = 1:n, k = 1:m, i = 1:n \n",
    "        @fastmath @inbounds ematrix[i, j] = ematrix[i, j] + X[i, k] * X[j, k] + (2.0 - X[i, k]) * (2.0 - X[j, k])\n",
    "    end\n",
    "    ematrix = ematrix ./ 4.0\n",
    "    for j = 1:n, i = 1:n \n",
    "        phi[i, j] = (ematrix[i, j] - pnorm - pnorm2) / (m - pnorm - pnorm2)\n",
    "    end\n",
    "    phi\n",
    "end"
   ]
  },
  {
   "cell_type": "code",
   "execution_count": 92,
   "metadata": {
    "collapsed": false
   },
   "outputs": [
    {
     "data": {
      "text/plain": [
       "1000×1000 Array{Float64,2}:\n",
       "  0.667981     -0.000159068  -0.00316105  …  -0.00376144   0.00314311\n",
       " -0.000159068   0.674786      0.00134192      0.0118488   -0.00166006\n",
       " -0.00316105    0.00134192    0.668682        0.00514443  -0.00386151\n",
       " -0.00436184    0.00014113   -0.00286085      0.00864673  -0.00436184\n",
       "  0.00144199   -0.00666335   -0.0101657       0.00304304   0.00344331\n",
       " -0.0116667    -0.00216039    0.00214245  …  -0.00416171  -0.00396157\n",
       "  0.000641459   0.00394364    0.00834654      0.00174218   0.00124186\n",
       " -0.00876474    0.00014113   -0.00766401     -0.00105966   0.00214245\n",
       "  0.000641459  -0.00866467   -0.00386151     -0.00216039   0.0148508 \n",
       "  0.00964739   -0.00426177    0.0141504       0.00304304   0.00924713\n",
       " -0.00586283   -0.00516237    0.00144199  …   0.00414377  -0.00386151\n",
       " -0.0044619    -0.00456197    0.00864673      0.00304304   0.00754601\n",
       " -0.00296091   -0.00386151   -0.013768        0.00224251  -0.00696355\n",
       "  ⋮                                       ⋱                          \n",
       " -0.00226045   -0.0143684    -0.00866467      0.00394364  -0.0053625 \n",
       " -0.00125979    0.00214245   -0.0097654      -0.00286085   0.00254271\n",
       "  0.00734588   -0.00236052   -0.0047621   …  -0.00416171  -0.0134678 \n",
       "  0.00654535    0.00104172   -0.00216039     -0.0100656   -0.00826441\n",
       "  0.0084466    -0.000459266  -0.00246058      0.0037435   -0.00936513\n",
       "  0.00104172    0.00264278   -0.00996553     -0.00806428   0.00824647\n",
       "  0.00494429   -0.00155999    0.0040437      -0.00115973  -0.00296091\n",
       "  0.0087468     0.0122491    -0.00656329  …   0.00294298  -0.00626309\n",
       "  0.00184225   -0.00756395   -0.0119668      -0.00806428   0.00184225\n",
       " -0.00226045   -0.00166006    0.00834654     -0.0115666   -0.00816434\n",
       " -0.00376144    0.0118488     0.00514443      0.664579    -0.00296091\n",
       "  0.00314311   -0.00166006   -0.00386151     -0.00296091   0.672684  "
      ]
     },
     "execution_count": 92,
     "metadata": {},
     "output_type": "execute_result"
    }
   ],
   "source": [
    "naive(X)"
   ]
  },
  {
   "cell_type": "code",
   "execution_count": 93,
   "metadata": {
    "collapsed": false
   },
   "outputs": [
    {
     "data": {
      "text/plain": [
       "BenchmarkTools.Trial: \n",
       "  memory estimate:  23.12 MiB\n",
       "  allocs estimate:  12\n",
       "  --------------\n",
       "  minimum time:     13.061 s (0.00% GC)\n",
       "  median time:      13.061 s (0.00% GC)\n",
       "  mean time:        13.061 s (0.00% GC)\n",
       "  maximum time:     13.061 s (0.00% GC)\n",
       "  --------------\n",
       "  samples:          1\n",
       "  evals/sample:     1"
      ]
     },
     "execution_count": 93,
     "metadata": {},
     "output_type": "execute_result"
    }
   ],
   "source": [
    "@benchmark naive(X)"
   ]
  },
  {
   "cell_type": "markdown",
   "metadata": {},
   "source": [
    "## Q2\n",
    "\n",
    "0. Show the **Sherman-Morrison formula**\n",
    "$$\n",
    "\t(\\mathbf{A} + \\mathbf{u} \\mathbf{u}^T)^{-1} = \\mathbf{A}^{-1} - \\frac{1}{1 + \\mathbf{u}^T \\mathbf{A}^{-1} \\mathbf{u}} \\mathbf{A}^{-1} \\mathbf{u} \\mathbf{u}^T \\mathbf{A}^{-1},\n",
    "$$\n",
    "where $\\mathbf{A} \\in \\mathbb{R}^{n \\times n}$ is nonsingular and $\\mathbf{u} \\in \\mathbb{R}^n$. This formula supplies the inverse of the symmetric, rank-one  perturbation of $\\mathbf{A}$.\n",
    "\n",
    "0. Show the **Woodbury formula**\n",
    "$$\n",
    "\t(\\mathbf{A} + \\mathbf{U} \\mathbf{V}^T)^{-1} = \\mathbf{A}^{-1} - \\mathbf{A}^{-1} \\mathbf{U} (\\mathbf{I}_m + \\mathbf{V}^T \\mathbf{A}^{-1} \\mathbf{U})^{-1} \\mathbf{V}^T \\mathbf{A}^{-1},\n",
    "$$\n",
    "where $\\mathbf{A} \\in \\mathbb{R}^{n \\times n}$ is nonsingular, $\\mathbf{U}, \\mathbf{V} \\in \\mathbb{R}^{n \\times m}$, and $\\mathbf{I}_m$ is the $m \\times m$ identity matrix. In many applications $m$ is much smaller than $n$. Woodbury formula generalizes Sherman-Morrison and is valuable because the smaller matrix $\\mathbf{I}_m + \\mathbf{V}^T \\mathbf{A}^{-1} \\mathbf{U}$ is cheaper to invert than the larger matrix $\\mathbf{A} + \\mathbf{U} \\mathbf{V}^T$.\n",
    "\n",
    "0. Show the **binomial inversion formula**\n",
    "$$\n",
    "\t(\\mathbf{A} + \\mathbf{U} \\mathbf{B} \\mathbf{V}^T)^{-1} = \\mathbf{A}^{-1} - \\mathbf{A}^{-1} \\mathbf{U} (\\mathbf{B}^{-1} + \\mathbf{V}^T \\mathbf{A}^{-1} \\mathbf{U})^{-1} \\mathbf{V}^T \\mathbf{A}^{-1},\n",
    "$$\n",
    "where $\\mathbf{A}$ and $\\mathbf{B}$ are nonsingular.\n",
    "\n",
    "0. Show the identity\n",
    "$$\n",
    "\t\\text{det}(\\mathbf{A} + \\mathbf{U} \\mathbf{V}^T) = \\text{det}(\\mathbf{A}) \\text{det}(\\mathbf{I}_m + \\mathbf{V}^T \\mathbf{A}^{-1} \\mathbf{U}).\n",
    "$$\n",
    "This formula is useful for evaluating the density of a multivariate normal with covariance matrix $\\mathbf{A} + \\mathbf{U} \\mathbf{V}^T$."
   ]
  },
  {
   "cell_type": "markdown",
   "metadata": {},
   "source": [
    "1. Assume $(\\mathbf{A} + \\mathbf{uu}^{T})$ is invertible. I will show the Sherman-Morrison formula satisfies the properties of an inverse.\n",
    "$$\n",
    "\\begin{align}\n",
    "(\\mathbf{A} + \\mathbf{uu}^{T})\\bigg(\\mathbf{A}^{-1} - \\frac{1}{1+\\mathbf{u}^{T}\\mathbf{A}^{-1}\\mathbf{u}}\\mathbf{A}^{-1}\\mathbf{uu}^{T}\\mathbf{A}^{-1}\\bigg) &=\\mathbf{I} - \\frac{\\mathbf{uu}^{T}\\mathbf{A}^{-1}}{1+\\mathbf{u}^{T}\\mathbf{A}^{-1}\\mathbf{u}} + \\mathbf{uu}^{T}A^{-1}\\mathbf{} -\\frac{\\mathbf{uu}^{T}\\mathbf{A}^{-1}\\mathbf{uu}^{T}\\mathbf{A}^{-1}}{1 + \\mathbf{u}^{T}\\mathbf{A}^{-1}\\mathbf{u}}\\\\\n",
    "&=\\mathbf{I} - \\frac{\\mathbf{uu}^{T}\\mathbf{A}^{-1}}{1+\\mathbf{u}^{T}\\mathbf{A}^{-1}\\mathbf{u}} + \\frac{\\mathbf{uu}^{T}A^{-1}+\\mathbf{u}^{T}\\mathbf{A}^{-1}\\mathbf{u}\\mathbf{uu}^{T}\\mathbf{A}^{-1}}{1+\\mathbf{u}^{T}\\mathbf{A}^{-1}\\mathbf{u}} -\\frac{\\mathbf{uu}^{T}\\mathbf{A}^{-1}\\mathbf{uu}^{T}\\mathbf{A}^{-1}}{1 + \\mathbf{u}^{T}\\mathbf{A}^{-1}\\mathbf{u}}\\\\\n",
    "&=\\mathbf{I} + \\frac{\\mathbf{uu}^{T}\\mathbf{A}^{-1}\\mathbf{uu}^{T}\\mathbf{A}^{-1}}{1+\\mathbf{u}^{T}\\mathbf{A}^{-1}\\mathbf{u}}-\\frac{\\mathbf{uu}^{T}\\mathbf{A}^{-1}\\mathbf{uu}^{T}\\mathbf{A}^{-1}}{1 + \\mathbf{u}^{T}\\mathbf{A}^{-1}\\mathbf{u}}\\\\\n",
    "&=\\mathbf{I}\n",
    "\\end{align}\n",
    "$$\n",
    "This shows the Sherman-Morrison formula is a right-inverse. I need to check it's a left-inverse as well.\n",
    "$$\n",
    "\\begin{align}\n",
    "\\bigg(\\mathbf{A}^{-1} - \\frac{1}{1+\\mathbf{u}^{T}\\mathbf{A}^{-1}\\mathbf{u}}\\mathbf{A}^{-1}\\mathbf{uu}^{T}\\mathbf{A}^{-1}\\bigg) (\\mathbf{A} + \\mathbf{uu}^{T})&=\\mathbf{I} + \\mathbf{A}^{-1}\\mathbf{uu}^{T} - \\frac{\\mathbf{A}^{-1}\\mathbf{uu}^{T}}{1+\\mathbf{u}^{T}\\mathbf{A}^{-1}\\mathbf{u}} - \\frac{\\mathbf{A}^{-1}\\mathbf{uu}^{T}\\mathbf{A}^{-1}\\mathbf{uu}^{T}}{1+\\mathbf{u}^{T}\\mathbf{A}^{-1}\\mathbf{u}}\\\\\n",
    "&=\\mathbf{I} + \\frac{\\mathbf{A}^{-1}\\mathbf{uu}^{T}+\\mathbf{u}^{T}\\mathbf{A}^{-1}\\mathbf{u}\\mathbf{A}^{-1}\\mathbf{uu}^{T}-\\mathbf{A}^{-1}\\mathbf{uu}^{T}-\\mathbf{A}^{-1}\\mathbf{uu}^{T}\\mathbf{A}^{-1}\\mathbf{uu}^{T}}{1+\\mathbf{u}^{T}\\mathbf{A}^{-1}\\mathbf{u}}\\\\\n",
    "&= \\mathbf{I}\n",
    "\\end{align}\n",
    "$$\n",
    "\n",
    " By definition of inverse,  $(\\mathbf{A} + \\mathbf{uu}^{T})^{-1}=\\mathbf{A}^{-1} - \\displaystyle\\frac{1}{1 + \\mathbf{u}^T \\mathbf{A}^{-1} \\mathbf{u}} \\mathbf{A}^{-1} \\mathbf{u} \\mathbf{u}^T \\mathbf{A}^{-1}$\n",
    " \n",
    "2. In a similar manner,\n",
    "$$\n",
    "\\begin{align}\n",
    "(\\mathbf{A} + \\mathbf{UV}^{T})(\\mathbf{A}^{-1} - \\mathbf{A}^{-1} \\mathbf{U} (\\mathbf{I}_m + \\mathbf{V}^T \\mathbf{A}^{-1} \\mathbf{U})^{-1} \\mathbf{V}^T \\mathbf{A}^{-1})&=\\mathbf{I_n} + \\mathbf{UV}^{T}\\mathbf{A}^{-1}-\\mathbf{U}(\\mathbf{I_m}\n",
    "+\\mathbf{V}^{T}\\mathbf{A}^{-1}\\mathbf{U})^{-1}\\mathbf{V}^{T}\\mathbf{A}^{-1} - \\mathbf{UV}^{T}\\mathbf{A}^{-1}\\mathbf{U}(\\mathbf{I_m}+\\mathbf{V}^{T}\\mathbf{A}^{-1}\\mathbf{U})\\mathbf{V}^{T}\\mathbf{A}^{-1}\\\\\n",
    "&=\\mathbf{I_n}+\\mathbf{UV}^{T}\\mathbf{A}^{-1}-(\\mathbf{U}+\\mathbf{UV}^{T}\\mathbf{A}^{-1}\\mathbf{U})(\\mathbf{I_m}+\\mathbf{V}^{T}\\mathbf{A}^{-1}\\mathbf{U})^{-1}\\mathbf{V}^{T}\\mathbf{A}^{-1}\\\\\n",
    "&=\\mathbf{I_n} + \\mathbf{UV}^{T}\\mathbf{A}^{-1}-\\mathbf{U}(\\mathbf{I_m}+\\mathbf{V}^{T}\\mathbf{A}^{-1}\\mathbf{U})(\\mathbf{I_m}+\\mathbf{V}^{T}\\mathbf{A}^{-1}\\mathbf{U})^{-1}\\mathbf{V}^{T}\\mathbf{A}^{-1}\\\\\n",
    "&=\\mathbf{I_n}+\\mathbf{UV}^{T}\\mathbf{A}^{-1}-\\mathbf{U}\\mathbf{V}^{T}\\mathbf{A}^{-1}\\\\\n",
    "&=\\mathbf{I_n}\n",
    "\\end{align}\n",
    "$$\n",
    " \n",
    " This shows the Woodbury formula is a right inverse for $\\mathbf{A} + \\mathbf{UV}^{T}$. To show it's a left inverse:\n",
    "$$\n",
    "\\begin{align}\n",
    "(\\mathbf{A}^{-1} - \\mathbf{A}^{-1} \\mathbf{U} (\\mathbf{I}_m + \\mathbf{V}^T \\mathbf{A}^{-1} \\mathbf{U})^{-1} \\mathbf{V}^T \\mathbf{A}^{-1})(\\mathbf{A} + \\mathbf{UV}^{T})&= \\mathbf{I_n} + \\mathbf{A}^{-1}\\mathbf{UV}^{T}-\\mathbf{A}^{-1}\\mathbf{U}(\\mathbf{I_m}+\\mathbf{V}^{T}\\mathbf{A}^{-1}\\mathbf{U})^{-1}\\mathbf{V}^{T}-\\mathbf{A}^{-1}\\mathbf{U}(\\mathbf{I_m}+\\mathbf{V}^{T}\\mathbf{A}^{-1}\\mathbf{U})^{-1}\\mathbf{V}^{T}\\mathbf{A}^{-1}\\mathbf{UV}^{T}\\\\\n",
    "&=\\mathbf{I_n}+\\mathbf{A}^{-1}\\mathbf{UV}^{T}-\\mathbf{A}^{-1}\\mathbf{U}(\\mathbf{I_m}+\\mathbf{V}^{T}\\mathbf{A}^{-1}\\mathbf{U})^{-1}(\\mathbf{V}^{T}+\\mathbf{V}^{T}\\mathbf{A}^{-1}\\mathbf{UV}^{T})\\\\\n",
    "&=\\mathbf{I_n}+\\mathbf{A}^{-1}\\mathbf{UV}^{T}-\\mathbf{A}^{-1}\\mathbf{U}(\\mathbf{I_m}+\\mathbf{V}^{T}\\mathbf{A}^{-1}\\mathbf{U})^{-1}(\\mathbf{I_m}+\\mathbf{V}^{T}\\mathbf{A}^{-1}\\mathbf{U})\\mathbf{V}^{T}\\\\\n",
    "&=\\mathbf{I_n}+\\mathbf{A}^{-1}\\mathbf{UV}^{T}-\\mathbf{A}^{-1}\\mathbf{UV}^{T}\\\\\n",
    "&=\\mathbf{I_n}\n",
    "\\end{align}\n",
    "$$\n",
    "\n",
    " By definition of inverse, $(\\mathbf{A} + \\mathbf{UV}^{T})^{-1}=(\\mathbf{A}^{-1} - \\mathbf{A}^{-1} \\mathbf{U} (\\mathbf{I}_m + \\mathbf{V}^T \\mathbf{A}^{-1} \\mathbf{U})^{-1} \\mathbf{V}^T \\mathbf{A}^{-1})$\n",
    " \n",
    "3. Continuing, \n",
    "$$\n",
    "\\begin{align}\n",
    "(\\mathbf{A}+\\mathbf{UBV}^{T})(\\mathbf{A}^{-1} - \\mathbf{A}^{-1} \\mathbf{U} (\\mathbf{B}^{-1} + \\mathbf{V}^T \\mathbf{A}^{-1} \\mathbf{U})^{-1} \\mathbf{V}^T \\mathbf{A}^{-1})&= \\mathbf{I_n}-\\mathbf{U}(\\mathbf{B}^{-1}+\\mathbf{V}^{T}\\mathbf{A}^{-1}\\mathbf{U})^{-1}\\mathbf{V}^{T}\\mathbf{A}^{-1}+\\mathbf{UBV}^{T}\\mathbf{A}^{-1}-\\mathbf{UBV}^{T}\\mathbf{A}^{-1}\\mathbf{U}(\\mathbf{B}^{-1}+\\mathbf{V}^{T}\\mathbf{A}^{-1}\\mathbf{U})^{-1}\\mathbf{V}^{T}\\mathbf{A}^{-1}\\\\\n",
    "&=\\mathbf{I_n}+\\mathbf{UBV}^{T}\\mathbf{A}^{-1}-(\\mathbf{U}+\\mathbf{UBV}^{T}\\mathbf{A}^{-1}\\mathbf{U})(\\mathbf{B}^{-1}+\\mathbf{V}^{T}\\mathbf{A}^{-1}\\mathbf{U})^{-1}\\mathbf{V}^{T}\\mathbf{A}^{-1}\\\\\n",
    "&=\\mathbf{I_n}+\\mathbf{UBV}^{T}\\mathbf{A}^{-1}-\\mathbf{UB}(\\mathbf{B}^{-1}+\\mathbf{V}^{T}\\mathbf{A}^{-1}\\mathbf{U})(\\mathbf{B}^{-1}+\\mathbf{V}^{T}\\mathbf{A}^{-1}\\mathbf{U})^{-1}\\mathbf{V}^{T}\\mathbf{A}^{-1}\\\\\n",
    "&=\\mathbf{I_n}+\\mathbf{UBV}^{T}\\mathbf{A}^{-1}-\\mathbf{UBV}^{T}\\mathbf{A}^{-1}\\\\\n",
    "&=\\mathbf{I_n}\n",
    "\\end{align}\n",
    "$$\n",
    "\n",
    " Left inverse:\n",
    "$$\n",
    "\\begin{align}\n",
    "(\\mathbf{A}^{-1} - \\mathbf{A}^{-1} \\mathbf{U} (\\mathbf{B}^{-1} + \\mathbf{V}^T \\mathbf{A}^{-1} \\mathbf{U})^{-1} \\mathbf{V}^T \\mathbf{A}^{-1})(\\mathbf{A}+\\mathbf{UBV}^{T})&=\\mathbf{I_n} + \\mathbf{A}^{-1}\\mathbf{UBV}^{T}-\\mathbf{A}^{-1}\\mathbf{U}(\\mathbf{B}^{-1}+\\mathbf{V}^{T}\\mathbf{A}^{-1}\\mathbf{U})^{-1}-\\mathbf{A}^{-1}\\mathbf{U}(\\mathbf{B}^{-1}+\\mathbf{V}^{T}\\mathbf{A}^{-1}\\mathbf{U})^{-1}\\mathbf{V}^{T}\\mathbf{A}^{-1}\\mathbf{UBV}^{T}\\\\\n",
    "&=\\mathbf{I_n}+\\mathbf{A}^{-1}\\mathbf{UBV}^{T}-\\mathbf{A}^{-1}\\mathbf{U}(\\mathbf{B}^{-1}+\\mathbf{V}^{T}\\mathbf{A}^{-1}\\mathbf{U})^{-1}(\\mathbf{V}^{T}+\\mathbf{V}^{T}\\mathbf{A}^{-1}\\mathbf{UBV}^{T})\\\\\n",
    "&=\\mathbf{I_n}+\\mathbf{A}^{-1}\\mathbf{UBV}^{T}-\\mathbf{A}^{-1}\\mathbf{U}(\\mathbf{B}^{-1}+\\mathbf{V}^{T}\\mathbf{A}^{-1}\\mathbf{U})^{-1}(\\mathbf{B}^{-1}+\\mathbf{V}^{T}\\mathbf{A}^{-1}\\mathbf{U})\\mathbf{BV}^{T}\\\\\n",
    "&=\\mathbf{I_n}+\\mathbf{A}^{-1}\\mathbf{UBV}^{T}-\\mathbf{A}^{-1}\\mathbf{UBV}^{T}\\\\\n",
    "&=\\mathbf{I_n}\n",
    "\\end{align}\n",
    "$$\n",
    " This shows $(\\mathbf{A}+\\mathbf{UBV}^{T})^{-1} = \\mathbf{A}^{-1} - \\mathbf{A}^{-1} \\mathbf{U} (\\mathbf{B}^{-1} + \\mathbf{V}^T \\mathbf{A}^{-1} \\mathbf{U})^{-1} \\mathbf{V}^T \\mathbf{A}^{-1}$\n",
    " \n",
    "4. Observate that\n",
    " $$\n",
    "\\begin{align}\n",
    "\\begin{pmatrix}\\mathbf{I_n} & \\mathbf{U}\\\\\\mathbf{0_{m\\times n}} & \\mathbf{I_m}+\\mathbf{V}^{T}\\mathbf{U}\\end{pmatrix} = \\begin{pmatrix}\\mathbf{I_n} & \\mathbf{0_{n\\times m}}\\\\\\mathbf{V}^{T} & \\mathbf{I_m}\\end{pmatrix}\\begin{pmatrix}\\mathbf{I_n}+\\mathbf{U}\\mathbf{V}^{T} & \\mathbf{U}\\\\\\mathbf{0_{m\\times n}} & \\mathbf{I_m}\\end{pmatrix}\\begin{pmatrix}\\mathbf{I_n} & \\mathbf{0_{n\\times m}}\\\\-\\mathbf{V}^{T} & \\mathbf{I_m}\\end{pmatrix}\n",
    "\\end{align}\n",
    "$$\n",
    "\n",
    " The determinant of a product is the product of determinants. Thus, $\\text{det}(\\mathbf{I_n} + \\mathbf{UV}^{T}) = \\text{det}(\\mathbf{I_m}+\\mathbf{V}^{T}\\mathbf{U})$\n",
    " \n",
    " Therefore\n",
    "$$\n",
    "\\begin{align}\n",
    "\\text{det}(\\mathbf{A}+\\mathbf{U}\\mathbf{V}^{T}) &=\\text{det}(\\mathbf{A}+\\mathbf{A}\\mathbf{A}^{-1}\\mathbf{UV}^{T})\\\\\n",
    "&=\\text{det}(\\mathbf{A})\\text{det}(\\mathbf{I_n}+\\mathbf{A}^{-1}\\mathbf{UV}^{T})\\\\\n",
    "&=\\text{det}(\\mathbf{A})\\text{det}(\\mathbf{I_m}+\\mathbf{V}^{T}\\mathbf{A}^{-1}\\mathbf{U})\n",
    "\\end{align}\n",
    "$$"
   ]
  },
  {
   "cell_type": "markdown",
   "metadata": {},
   "source": [
    "## Q3\n",
    "\n",
    "Consider a mixed effects model\n",
    "$$\n",
    "\ty_i = \\mathbf{x}_i^T \\beta + \\mathbf{z}_i^T \\gamma + \\epsilon_i, \\quad i=1,\\ldots,n,\n",
    "$$\n",
    "where $\\epsilon_i$ are independent normal errors $N(0,\\sigma_0^2)$, $\\beta \\in \\mathbb{R}^p$ are fixed effects, and $\\gamma \\in \\mathbb{R}^q$ are random effects assumed to be $N(\\mathbf{0}_q, \\sigma_1^2 \\mathbf{I}_q$) independent of $\\epsilon_i$. \n",
    "\n",
    "0. Show that \n",
    "$$\n",
    "    \\mathbf{y} \\sim N \\left( \\mathbf{X} \\beta, \\sigma_0^2 \\mathbf{I}_n + \\sigma_1^2 \\mathbf{Z} \\mathbf{Z}^T \\right),\n",
    "$$\n",
    "where $\\mathbf{y} \\in \\mathbb{R}^n$, $\\mathbf{X} \\in \\mathbb{R}^{n \\times p}$, and $\\mathbf{Z} \\in \\mathbb{R}^{n \\times q}$. \n",
    "\n",
    "0. Write a function, with interface \n",
    "    ```julia\n",
    "    logpdf_mvn(y, Z, σ0, σ1),\n",
    "    ```\n",
    "that evaluates the log-density of a multivariate normal with mean $\\mathbf{0}$ and covariance $\\sigma_0^2 \\mathbf{I} + \\sigma_1^2 \\mathbf{Z} \\mathbf{Z}^T$ at $\\mathbf{y}$. Make your code efficient in the $n \\gg q$ case. \n",
    "\n",
    "0. Compare your result (both accuracy and timing) to the [Distributions.jl](http://distributionsjl.readthedocs.io/en/latest/multivariate.html#multivariate-normal-distribution) package using following data.  \n",
    "    ```julia\n",
    "    using BenchmarkTools, Distributions\n",
    "\n",
    "    srand(280)\n",
    "    n, q = 2000, 10\n",
    "    Z = randn(n, q)\n",
    "    σ0, σ1 = 0.5, 2.0\n",
    "    Σ = σ1^2 * Z * Z.' + σ0^2 * I\n",
    "    mvn = MvNormal(Σ) # MVN(0, Σ)\n",
    "    y = rand(mvn) # generate one instance from MNV(0, Σ)\n",
    "\n",
    "    # check you answer matches that from Distributions.jl\n",
    "    @show logpdf_mvn(y, Z, σ0, σ1)\n",
    "    @show logpdf(mvn, y)\n",
    "\n",
    "    # benchmark\n",
    "    @benchmark logpdf_mvn(y, Z, σ0, σ1)\n",
    "    @benchmark logpdf(mvn, y)\n",
    "    ```"
   ]
  },
  {
   "cell_type": "markdown",
   "metadata": {},
   "source": [
    "1. From the problem formulation, $\\mathbf{Z}\\gamma \\sim N_n(0, \\mathbf{Z}\\sigma^2_1\\mathbf{Z}^{T})$ and $\\varepsilon \\sim N_n(0,\\sigma^2_0\\mathbf{I_n})$ with $\\mathbf{Z}\\gamma$ independent of $\\varepsilon$\n",
    "\n",
    " Let $\\tilde{\\varepsilon} = \\mathbf{Z}\\gamma + \\varepsilon$. This is the sum of two independent multivariate normal variables, so $\\tilde{\\varepsilon} \\sim N_n(0, \\sigma^2_0\\mathbf{I_n} + \\sigma^2_1\\mathbf{Z}\\mathbf{Z}^{T})$\n",
    " \n",
    " Therefore $\\mathbf{y} = \\mathbf{X}\\beta + \\tilde{\\varepsilon} \\sim N(\\mathbf{X}\\beta, \\sigma^2_0\\mathbf{I_n} + \\sigma^2_1\\mathbf{Z}\\mathbf{Z}^{T})$"
   ]
  },
  {
   "cell_type": "code",
   "execution_count": 38,
   "metadata": {
    "collapsed": false
   },
   "outputs": [],
   "source": [
    "# Question 3, part 2\n",
    "\n",
    "using BenchmarkTools, Distributions\n",
    "\n",
    "srand(280)\n",
    "n, q = 2000, 10\n",
    "Z = randn(n, q)\n",
    "σ0, σ1 = 0.5, 2.0\n",
    "Σ = σ1^2 * Z * Z.' + σ0^2 * I\n",
    "mvn = MvNormal(Σ) # MVN(0, Σ)\n",
    "y = rand(mvn); # generate one instance from MNV(0, Σ)"
   ]
  },
  {
   "cell_type": "code",
   "execution_count": 43,
   "metadata": {
    "collapsed": false
   },
   "outputs": [
    {
     "name": "stderr",
     "output_type": "stream",
     "text": [
      "WARNING: Method definition logpdf_mvn("
     ]
    },
    {
     "data": {
      "text/plain": [
       "logpdf_mvn (generic function with 2 methods)"
      ]
     },
     "execution_count": 43,
     "metadata": {},
     "output_type": "execute_result"
    },
    {
     "name": "stderr",
     "output_type": "stream",
     "text": [
      "Array{Float64, 1}, Array{Float64, 2}, Float64, Float64) in module Main at In[39]:2 overwritten at In[43]:2.\n"
     ]
    }
   ],
   "source": [
    "function logpdf_mvn(y::Array{Float64,1}, Z::Array{Float64,2}, σ0::Float64, σ1::Float64)\n",
    "    k = length(y)\n",
    "    \n",
    "    # Save the cholesky decomposition of Σ. Cholesky decompositions are more computationally efficient\n",
    "    Σchol = cholfact(Σ)\n",
    "    \n",
    "    # The // represent fractions in Julia.\n",
    "    # The :L syntax means I want the lower triangular matrix in the cholesky decomposition\n",
    "    - (k//2) * log(2π) - (1//2) * logdet(Σchol) - (1//2) * sumabs2(Σchol[:L] \\ y)\n",
    "\n",
    "end"
   ]
  },
  {
   "cell_type": "code",
   "execution_count": 44,
   "metadata": {
    "collapsed": false
   },
   "outputs": [
    {
     "name": "stdout",
     "output_type": "stream",
     "text": [
      "logpdf_mvn(y,Z,σ0,σ1) = -1571.5736734654183\n",
      "logpdf(mvn,y) = -1571.5736734654183\n"
     ]
    },
    {
     "data": {
      "text/plain": [
       "-1571.5736734654183"
      ]
     },
     "execution_count": 44,
     "metadata": {},
     "output_type": "execute_result"
    }
   ],
   "source": [
    "@show logpdf_mvn(y, Z, σ0, σ1)\n",
    "@show logpdf(mvn, y)"
   ]
  },
  {
   "cell_type": "code",
   "execution_count": 45,
   "metadata": {
    "collapsed": false
   },
   "outputs": [
    {
     "data": {
      "text/plain": [
       "BenchmarkTools.Trial: \n",
       "  memory estimate:  61.05 MiB\n",
       "  allocs estimate:  25\n",
       "  --------------\n",
       "  minimum time:     85.209 ms (0.76% GC)\n",
       "  median time:      91.932 ms (4.92% GC)\n",
       "  mean time:        94.465 ms (4.77% GC)\n",
       "  maximum time:     125.584 ms (3.51% GC)\n",
       "  --------------\n",
       "  samples:          53\n",
       "  evals/sample:     1"
      ]
     },
     "execution_count": 45,
     "metadata": {},
     "output_type": "execute_result"
    }
   ],
   "source": [
    "@benchmark logpdf_mvn(y, Z, σ0, σ1)"
   ]
  },
  {
   "cell_type": "code",
   "execution_count": 42,
   "metadata": {
    "collapsed": false
   },
   "outputs": [
    {
     "data": {
      "text/plain": [
       "BenchmarkTools.Trial: \n",
       "  memory estimate:  15.78 KiB\n",
       "  allocs estimate:  3\n",
       "  --------------\n",
       "  minimum time:     5.843 ms (0.00% GC)\n",
       "  median time:      5.962 ms (0.00% GC)\n",
       "  mean time:        6.014 ms (0.00% GC)\n",
       "  maximum time:     7.061 ms (0.00% GC)\n",
       "  --------------\n",
       "  samples:          826\n",
       "  evals/sample:     1"
      ]
     },
     "execution_count": 42,
     "metadata": {},
     "output_type": "execute_result"
    }
   ],
   "source": [
    "@benchmark logpdf(mvn, y)"
   ]
  },
  {
   "cell_type": "code",
   "execution_count": 56,
   "metadata": {
    "collapsed": false
   },
   "outputs": [
    {
     "data": {
      "text/plain": [
       "2000×2000 Array{Float64,2}:\n",
       "  48.4398     12.5751      -1.85451   …   -0.963463     7.73531     5.55813 \n",
       "  12.5751     60.0283     -43.9952         0.0624533    1.79251     8.32576 \n",
       "  -1.85451   -43.9952      63.5581        -1.66745      5.60657     3.39898 \n",
       "   7.47823    -6.66154      4.66697        3.53446     -1.86866     6.24601 \n",
       "   3.18518    13.4341     -10.1183       -14.0829       0.217011    1.42379 \n",
       "   4.58176     8.38486     14.3487    …    2.26277      1.89618    14.042   \n",
       "  -9.12281   -18.4289       1.57148      -13.0892      -1.0412     -7.12815 \n",
       "  -4.47219    17.7271     -30.5422         2.22316    -12.2928     -2.29981 \n",
       "  -5.18916    15.2756      -2.30837       -3.42225      0.526121    5.61582 \n",
       " -10.7986      8.64372    -12.7132         3.48297     -9.16786     0.784319\n",
       " -17.8025     16.4128     -29.3033    …   13.6395     -12.5796     -5.20061 \n",
       "  11.7025     -3.62996     -3.01955       -6.09396     -2.95715     1.75864 \n",
       "  11.4505     16.6458      -0.157436       1.19876     -0.577847   -3.15335 \n",
       "   ⋮                                  ⋱                                     \n",
       " -15.7588    -15.6557      15.4615        -9.32563      3.02487    -3.28746 \n",
       " -46.1857     -1.54904    -16.1242        -5.51149    -23.4838      5.3347  \n",
       "  13.3774    -23.8252      16.9131    …   20.0852     -12.6204      3.52129 \n",
       "  -6.7852    -25.7989      20.2176       -14.1528      -6.07961     3.41492 \n",
       "  -4.61382    21.4298     -29.7152         9.92892    -25.0098     -1.88451 \n",
       " -10.9647    -10.5903      13.2943        -3.76499     15.71      -22.2227  \n",
       "  -0.775756    9.99266    -14.7055        21.3724     -13.369       8.283   \n",
       "   4.7229     27.1247      -6.24359   …    6.01287     -4.50882    14.014   \n",
       " -23.9236    -11.8661      10.7808        -8.59396      7.34016    -3.45892 \n",
       "  -0.963463    0.0624533   -1.66745       18.4772      -7.9032     -1.43379 \n",
       "   7.73531     1.79251      5.60657       -7.9032      17.5484     -4.40795 \n",
       "   5.55813     8.32576      3.39898       -1.43379     -4.40795    18.6762  "
      ]
     },
     "execution_count": 56,
     "metadata": {},
     "output_type": "execute_result"
    }
   ],
   "source": [
    "Σchol = cholfact(Σ);\n",
    "Σchol[:L] * Σchol[:U]\n",
    "Σ"
   ]
  },
  {
   "cell_type": "code",
   "execution_count": null,
   "metadata": {
    "collapsed": true
   },
   "outputs": [],
   "source": []
  }
 ],
 "metadata": {
  "kernelspec": {
   "display_name": "Julia 0.5.1",
   "language": "julia",
   "name": "julia-0.5"
  },
  "language_info": {
   "file_extension": ".jl",
   "mimetype": "application/julia",
   "name": "julia",
   "version": "0.5.1"
  }
 },
 "nbformat": 4,
 "nbformat_minor": 2
}
