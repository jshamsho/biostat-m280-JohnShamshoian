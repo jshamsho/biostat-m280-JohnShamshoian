{
 "cells": [
  {
   "cell_type": "code",
   "execution_count": 1,
   "metadata": {
    "collapsed": false
   },
   "outputs": [
    {
     "data": {
      "text/plain": [
       "BenchmarkTools.Trial: \n",
       "  memory estimate:  7.63 MiB\n",
       "  allocs estimate:  2\n",
       "  --------------\n",
       "  minimum time:     115.882 ms (0.00% GC)\n",
       "  median time:      128.810 ms (0.00% GC)\n",
       "  mean time:        132.945 ms (0.38% GC)\n",
       "  maximum time:     237.718 ms (0.00% GC)\n",
       "  --------------\n",
       "  samples:          38\n",
       "  evals/sample:     1"
      ]
     },
     "execution_count": 1,
     "metadata": {},
     "output_type": "execute_result"
    }
   ],
   "source": [
    "using BenchmarkTools\n",
    "srand(280) # seed\n",
    "X = rand(0.0:2.0, 1000, 10000)\n",
    "@benchmark A_mul_Bc(X,X)"
   ]
  },
  {
   "cell_type": "code",
   "execution_count": 2,
   "metadata": {
    "collapsed": false
   },
   "outputs": [
    {
     "data": {
      "text/plain": [
       "BenchmarkTools.Trial: \n",
       "  memory estimate:  7.63 MiB\n",
       "  allocs estimate:  2\n",
       "  --------------\n",
       "  minimum time:     117.541 ms (0.24% GC)\n",
       "  median time:      132.309 ms (0.00% GC)\n",
       "  mean time:        131.915 ms (0.39% GC)\n",
       "  maximum time:     149.515 ms (0.00% GC)\n",
       "  --------------\n",
       "  samples:          38\n",
       "  evals/sample:     1"
      ]
     },
     "execution_count": 2,
     "metadata": {},
     "output_type": "execute_result"
    }
   ],
   "source": [
    "@benchmark X * X'"
   ]
  },
  {
   "cell_type": "code",
   "execution_count": 3,
   "metadata": {
    "collapsed": false
   },
   "outputs": [
    {
     "data": {
      "text/plain": [
       "BenchmarkTools.Trial: \n",
       "  memory estimate:  83.92 MiB\n",
       "  allocs estimate:  4\n",
       "  --------------\n",
       "  minimum time:     246.795 ms (0.06% GC)\n",
       "  median time:      271.428 ms (2.04% GC)\n",
       "  mean time:        273.025 ms (3.08% GC)\n",
       "  maximum time:     307.885 ms (17.67% GC)\n",
       "  --------------\n",
       "  samples:          19\n",
       "  evals/sample:     1"
      ]
     },
     "execution_count": 3,
     "metadata": {},
     "output_type": "execute_result"
    }
   ],
   "source": [
    "@benchmark X * transpose(X)"
   ]
  },
  {
   "cell_type": "code",
   "execution_count": 6,
   "metadata": {
    "collapsed": false
   },
   "outputs": [
    {
     "data": {
      "text/plain": [
       "1000×10000 Array{Float64,2}:\n",
       " 0.0  0.0  0.0  0.0  0.0  0.0  0.0  0.0  …  0.0  0.0  0.0  0.0  0.0  0.0  0.0\n",
       " 0.0  0.0  0.0  0.0  0.0  0.0  0.0  0.0     0.0  0.0  0.0  0.0  0.0  0.0  0.0\n",
       " 0.0  0.0  0.0  0.0  0.0  0.0  0.0  0.0     0.0  0.0  0.0  0.0  0.0  0.0  0.0\n",
       " 0.0  0.0  0.0  0.0  0.0  0.0  0.0  0.0     0.0  0.0  0.0  0.0  0.0  0.0  0.0\n",
       " 0.0  0.0  0.0  0.0  0.0  0.0  0.0  0.0     0.0  0.0  0.0  0.0  0.0  0.0  0.0\n",
       " 0.0  0.0  0.0  0.0  0.0  0.0  0.0  0.0  …  0.0  0.0  0.0  0.0  0.0  0.0  0.0\n",
       " 0.0  0.0  0.0  0.0  0.0  0.0  0.0  0.0     0.0  0.0  0.0  0.0  0.0  0.0  0.0\n",
       " 0.0  0.0  0.0  0.0  0.0  0.0  0.0  0.0     0.0  0.0  0.0  0.0  0.0  0.0  0.0\n",
       " 0.0  0.0  0.0  0.0  0.0  0.0  0.0  0.0     0.0  0.0  0.0  0.0  0.0  0.0  0.0\n",
       " 0.0  0.0  0.0  0.0  0.0  0.0  0.0  0.0     0.0  0.0  0.0  0.0  0.0  0.0  0.0\n",
       " 0.0  0.0  0.0  0.0  0.0  0.0  0.0  0.0  …  0.0  0.0  0.0  0.0  0.0  0.0  0.0\n",
       " 0.0  0.0  0.0  0.0  0.0  0.0  0.0  0.0     0.0  0.0  0.0  0.0  0.0  0.0  0.0\n",
       " 0.0  0.0  0.0  0.0  0.0  0.0  0.0  0.0     0.0  0.0  0.0  0.0  0.0  0.0  0.0\n",
       " ⋮                        ⋮              ⋱            ⋮                      \n",
       " 0.0  0.0  0.0  0.0  0.0  0.0  0.0  0.0     0.0  0.0  0.0  0.0  0.0  0.0  0.0\n",
       " 0.0  0.0  0.0  0.0  0.0  0.0  0.0  0.0     0.0  0.0  0.0  0.0  0.0  0.0  0.0\n",
       " 0.0  0.0  0.0  0.0  0.0  0.0  0.0  0.0  …  0.0  0.0  0.0  0.0  0.0  0.0  0.0\n",
       " 0.0  0.0  0.0  0.0  0.0  0.0  0.0  0.0     0.0  0.0  0.0  0.0  0.0  0.0  0.0\n",
       " 0.0  0.0  0.0  0.0  0.0  0.0  0.0  0.0     0.0  0.0  0.0  0.0  0.0  0.0  0.0\n",
       " 0.0  0.0  0.0  0.0  0.0  0.0  0.0  0.0     0.0  0.0  0.0  0.0  0.0  0.0  0.0\n",
       " 0.0  0.0  0.0  0.0  0.0  0.0  0.0  0.0     0.0  0.0  0.0  0.0  0.0  0.0  0.0\n",
       " 0.0  0.0  0.0  0.0  0.0  0.0  0.0  0.0  …  0.0  0.0  0.0  0.0  0.0  0.0  0.0\n",
       " 0.0  0.0  0.0  0.0  0.0  0.0  0.0  0.0     0.0  0.0  0.0  0.0  0.0  0.0  0.0\n",
       " 0.0  0.0  0.0  0.0  0.0  0.0  0.0  0.0     0.0  0.0  0.0  0.0  0.0  0.0  0.0\n",
       " 0.0  0.0  0.0  0.0  0.0  0.0  0.0  0.0     0.0  0.0  0.0  0.0  0.0  0.0  0.0\n",
       " 0.0  0.0  0.0  0.0  0.0  0.0  0.0  0.0     0.0  0.0  0.0  0.0  0.0  0.0  0.0"
      ]
     },
     "execution_count": 6,
     "metadata": {},
     "output_type": "execute_result"
    }
   ],
   "source": [
    "rowdim = Int64(size(X)[1])\n",
    "coldim = Int64(size(X)[2])\n",
    "p = Array{Float64}(coldim)\n",
    "p = sum(X, 1)\n",
    "ematrix = Array{Float64}(rowdim, coldim)\n"
   ]
  },
  {
   "cell_type": "code",
   "execution_count": 8,
   "metadata": {
    "collapsed": false
   },
   "outputs": [
    {
     "data": {
      "text/plain": [
       "BenchmarkTools.Trial: \n",
       "  memory estimate:  16 bytes\n",
       "  allocs estimate:  1\n",
       "  --------------\n",
       "  minimum time:     2.557 μs (0.00% GC)\n",
       "  median time:      2.592 μs (0.00% GC)\n",
       "  mean time:        2.717 μs (0.00% GC)\n",
       "  maximum time:     65.691 μs (0.00% GC)\n",
       "  --------------\n",
       "  samples:          10000\n",
       "  evals/sample:     9"
      ]
     },
     "execution_count": 8,
     "metadata": {},
     "output_type": "execute_result"
    }
   ],
   "source": [
    "@benchmark vecnorm(p)"
   ]
  },
  {
   "cell_type": "code",
   "execution_count": 9,
   "metadata": {
    "collapsed": false
   },
   "outputs": [
    {
     "data": {
      "text/plain": [
       "1000×1000 Array{Float64,2}:\n",
       " 33364.0  20010.0  19950.0  19926.0  …  20050.0  19968.0  19938.0  20076.0\n",
       " 20010.0  33500.0  20040.0  20016.0     19862.0  19980.0  20250.0  19980.0\n",
       " 19950.0  20040.0  33378.0  19956.0     19774.0  20180.0  20116.0  19936.0\n",
       " 19926.0  20016.0  19956.0  33218.0     19854.0  19784.0  20186.0  19926.0\n",
       " 20042.0  19880.0  19810.0  20022.0     20062.0  19940.0  20074.0  20082.0\n",
       " 19780.0  19970.0  20056.0  20168.0  …  20138.0  20078.0  19930.0  19934.0\n",
       " 20026.0  20092.0  20180.0  20052.0     20134.0  20008.0  20048.0  20038.0\n",
       " 19838.0  20016.0  19860.0  19858.0     20004.0  20170.0  19992.0  20056.0\n",
       " 20026.0  19840.0  19936.0  20028.0     20208.0  19976.0  19970.0  20310.0\n",
       " 20206.0  19928.0  20296.0  20140.0     20126.0  19938.0  20074.0  20198.0\n",
       " 19896.0  19910.0  20042.0  19800.0  …  19964.0  19882.0  20096.0  19936.0\n",
       " 19924.0  19922.0  20186.0  19778.0     19932.0  20058.0  20074.0  20164.0\n",
       " 19954.0  19936.0  19738.0  19938.0     19708.0  20056.0  20058.0  19874.0\n",
       "     ⋮                               ⋱                                    \n",
       " 19968.0  19726.0  19840.0  20164.0     19938.0  20038.0  20092.0  19906.0\n",
       " 19988.0  20056.0  19818.0  20000.0     20180.0  20188.0  19956.0  20064.0\n",
       " 20160.0  19966.0  19918.0  20246.0  …  20208.0  20126.0  19930.0  19744.0\n",
       " 20144.0  20034.0  19970.0  19952.0     19946.0  19918.0  19812.0  19848.0\n",
       " 20182.0  20004.0  19964.0  20042.0     20044.0  20074.0  20088.0  19826.0\n",
       " 20034.0  20066.0  19814.0  20038.0     20086.0  19928.0  19852.0  20178.0\n",
       " 20112.0  19982.0  20094.0  20132.0     20032.0  19908.0  19990.0  19954.0\n",
       " 20188.0  20258.0  19882.0  20108.0  …  19802.0  20146.0  20072.0  19888.0\n",
       " 20050.0  19862.0  19774.0  19854.0     33446.0  20108.0  19852.0  20050.0\n",
       " 19968.0  19980.0  20180.0  19784.0     20108.0  33382.0  19782.0  19850.0\n",
       " 19938.0  20250.0  20116.0  20186.0     19852.0  19782.0  33296.0  19954.0\n",
       " 20076.0  19980.0  19936.0  19926.0     20050.0  19850.0  19954.0  33458.0"
      ]
     },
     "execution_count": 9,
     "metadata": {},
     "output_type": "execute_result"
    }
   ],
   "source": [
    "ematrix = X * X' + (2 - X) * (2- X')"
   ]
  },
  {
   "cell_type": "code",
   "execution_count": 29,
   "metadata": {
    "collapsed": false
   },
   "outputs": [
    {
     "data": {
      "text/plain": [
       "BenchmarkTools.Trial: \n",
       "  memory estimate:  404.36 MiB\n",
       "  allocs estimate:  16\n",
       "  --------------\n",
       "  minimum time:     667.019 ms (9.58% GC)\n",
       "  median time:      702.677 ms (12.56% GC)\n",
       "  mean time:        720.875 ms (11.96% GC)\n",
       "  maximum time:     894.140 ms (10.55% GC)\n",
       "  --------------\n",
       "  samples:          8\n",
       "  evals/sample:     1"
      ]
     },
     "execution_count": 29,
     "metadata": {},
     "output_type": "execute_result"
    }
   ],
   "source": [
    "@benchmark 2 * X * X' + (2 - X) * (2 - X')"
   ]
  },
  {
   "cell_type": "code",
   "execution_count": 30,
   "metadata": {
    "collapsed": false
   },
   "outputs": [
    {
     "data": {
      "text/plain": [
       "3162.178257288857"
      ]
     },
     "execution_count": 30,
     "metadata": {},
     "output_type": "execute_result"
    }
   ],
   "source": [
    "norm(X)"
   ]
  },
  {
   "cell_type": "code",
   "execution_count": 22,
   "metadata": {
    "collapsed": false
   },
   "outputs": [
    {
     "data": {
      "text/plain": [
       "BenchmarkTools.Trial: \n",
       "  memory estimate:  152.62 MiB\n",
       "  allocs estimate:  1993\n",
       "  --------------\n",
       "  minimum time:     37.894 ms (1.20% GC)\n",
       "  median time:      48.180 ms (19.50% GC)\n",
       "  mean time:        49.309 ms (20.28% GC)\n",
       "  maximum time:     104.790 ms (64.42% GC)\n",
       "  --------------\n",
       "  samples:          102\n",
       "  evals/sample:     1"
      ]
     },
     "execution_count": 22,
     "metadata": {},
     "output_type": "execute_result"
    }
   ],
   "source": [
    "@benchmark 2.0 * eye(rowdim,coldim)"
   ]
  },
  {
   "cell_type": "code",
   "execution_count": 26,
   "metadata": {
    "collapsed": false
   },
   "outputs": [
    {
     "data": {
      "text/plain": [
       "BenchmarkTools.Trial: \n",
       "  memory estimate:  7.95 KiB\n",
       "  allocs estimate:  2\n",
       "  --------------\n",
       "  minimum time:     600.151 ns (0.00% GC)\n",
       "  median time:      1.812 μs (0.00% GC)\n",
       "  mean time:        2.181 μs (28.10% GC)\n",
       "  maximum time:     15.441 μs (88.87% GC)\n",
       "  --------------\n",
       "  samples:          10000\n",
       "  evals/sample:     185"
      ]
     },
     "execution_count": 26,
     "metadata": {},
     "output_type": "execute_result"
    }
   ],
   "source": [
    "fill(2.0, 1000)\n",
    "@benchmark Diagonal(fill(2.0,1000))"
   ]
  },
  {
   "cell_type": "code",
   "execution_count": 71,
   "metadata": {
    "collapsed": false
   },
   "outputs": [
    {
     "name": "stderr",
     "output_type": "stream",
     "text": [
      "WARNING: Method definition temp("
     ]
    },
    {
     "data": {
      "text/plain": [
       "temp1 (generic function with 1 method)"
      ]
     },
     "execution_count": 71,
     "metadata": {},
     "output_type": "execute_result"
    },
    {
     "name": "stderr",
     "output_type": "stream",
     "text": [
      ") in module Main at In[69]:7 overwritten at In[71]:7.\n",
      "WARNING: Method definition temp1() in module Main at In[69]:18 overwritten at In[71]:18.\n"
     ]
    }
   ],
   "source": [
    "A = rand(10,20)\n",
    "A * A'\n",
    "Atemp = zeros(Float64,10,10)\n",
    "\n",
    "\n",
    "function temp()\n",
    "    for j = 1:10\n",
    "        for k = 1:20\n",
    "            for i = j:10\n",
    "                Atemp[i,j] += A[i, k] * A[j, k]\n",
    "            end\n",
    "        end\n",
    "    end\n",
    "    Atemp;\n",
    "end\n",
    "\n",
    "function temp1()\n",
    "    Atemp[1,1] + Atemp[1,2]\n",
    "end"
   ]
  },
  {
   "cell_type": "code",
   "execution_count": 72,
   "metadata": {
    "collapsed": false
   },
   "outputs": [
    {
     "name": "stdout",
     "output_type": "stream",
     "text": [
      "Variables:\n",
      "  #self#::#temp1\n",
      "\n",
      "Body:\n",
      "  begin \n",
      "      return ((Main.getindex)(Main.Atemp,1,1)\u001b[1m\u001b[31m::Any\u001b[0m + (Main.getindex)(Main.Atemp,1,2)\u001b[1m\u001b[31m::Any\u001b[0m)\u001b[1m\u001b[31m::Any\u001b[0m\n",
      "  end\u001b[1m\u001b[31m::Any\u001b[0m\n"
     ]
    }
   ],
   "source": [
    "@code_warntype temp1()"
   ]
  },
  {
   "cell_type": "code",
   "execution_count": 65,
   "metadata": {
    "collapsed": false
   },
   "outputs": [
    {
     "data": {
      "text/plain": [
       "10×10 Array{Float64,2}:\n",
       " 6.9105   4.91009  3.48595  4.17499  …  4.79823  5.585    4.76416  4.79724\n",
       " 4.91009  5.86927  3.40706  3.69405     5.15505  5.64217  4.1441   4.69887\n",
       " 3.48595  3.40706  3.68815  2.44277     3.61831  3.75355  3.48051  3.70234\n",
       " 4.17499  3.69405  2.44277  3.72864     3.56173  3.80365  3.20248  3.36456\n",
       " 4.19174  4.13183  3.49931  2.39604     3.90948  4.5534   4.63465  4.18948\n",
       " 4.17151  3.8284   3.13808  3.13543  …  4.11983  4.92082  4.0137   3.84596\n",
       " 4.79823  5.15505  3.61831  3.56173     5.88374  6.21947  4.55753  4.42053\n",
       " 5.585    5.64217  3.75355  3.80365     6.21947  8.55216  5.47604  5.59828\n",
       " 4.76416  4.1441   3.48051  3.20248     4.55753  5.47604  6.10177  4.29066\n",
       " 4.79724  4.69887  3.70234  3.36456     4.42053  5.59828  4.29066  6.15424"
      ]
     },
     "execution_count": 65,
     "metadata": {},
     "output_type": "execute_result"
    }
   ],
   "source": [
    "A * A'"
   ]
  },
  {
   "cell_type": "code",
   "execution_count": 57,
   "metadata": {
    "collapsed": false
   },
   "outputs": [
    {
     "data": {
      "text/plain": [
       "200×200 Array{Float64,2}:\n",
       " 106.487   74.6009   79.1042  77.0765  …   82.6157   84.3957   79.4889\n",
       "  74.6009  95.8663   68.9222  68.4148      75.8712   78.7492   73.5681\n",
       "  79.1042  68.9222  101.368   74.0545      80.5421   84.2705   76.7134\n",
       "  77.0765  68.4148   74.0545  93.2464      75.3223   79.6967   72.1306\n",
       "  78.7937  74.5418   76.1662  69.6057      79.8632   83.084    76.398 \n",
       "  75.5691  74.2434   72.6796  68.5976  …   76.8637   79.5137   77.3946\n",
       "  74.8111  71.1465   76.2208  71.0065      79.536    80.8675   75.5743\n",
       "  79.3259  73.864    76.1813  73.1196      83.6701   86.111    81.4285\n",
       "  76.6934  73.5397   76.7322  72.4707      78.6958   84.625    78.6431\n",
       "  83.6513  75.394    78.0057  73.3788      78.7023   85.1926   76.5157\n",
       "  75.6485  73.3402   74.0019  68.6239  …   76.3347   82.5795   72.0812\n",
       "  76.0734  72.02     76.0539  70.9211      77.4678   82.5305   76.1047\n",
       "  78.538   71.7092   79.5797  73.9732      81.8422   81.9656   79.1701\n",
       "   ⋮                                   ⋱                              \n",
       "  78.1855  68.4255   72.3072  67.1692      76.8816   77.9827   77.437 \n",
       "  77.6905  72.1822   76.259   73.1865      78.2184   81.2977   76.1521\n",
       "  76.8387  71.1973   76.3567  67.0895  …   78.8506   81.0169   76.0344\n",
       "  77.8893  71.2482   75.795   69.8209      76.2537   81.095    74.3012\n",
       "  75.8951  71.0661   70.0082  69.4237      76.3276   79.6713   72.9242\n",
       "  75.6437  69.0706   74.6006  70.6264      75.9238   79.5866   76.9937\n",
       "  77.0102  70.8089   78.5473  72.6727      77.7497   83.224    77.2184\n",
       "  79.3625  75.2152   75.769   71.9253  …   83.159    86.631    81.322 \n",
       "  84.1943  77.009    80.7573  75.3881      83.3447   86.3684   80.4317\n",
       "  82.6157  75.8712   80.5421  75.3223     106.279    85.2175   81.1816\n",
       "  84.3957  78.7492   84.2705  79.6967      85.2175  115.886    84.8542\n",
       "  79.4889  73.5681   76.7134  72.1306      81.1816   84.8542  103.48  "
      ]
     },
     "execution_count": 57,
     "metadata": {},
     "output_type": "execute_result"
    }
   ],
   "source": [
    "A * A'"
   ]
  },
  {
   "cell_type": "code",
   "execution_count": 58,
   "metadata": {
    "collapsed": false
   },
   "outputs": [
    {
     "data": {
      "text/plain": [
       "200×200 Array{Float64,2}:\n",
       " 2024.88     0.0      0.0      0.0   …     0.0      0.0      0.0      0.0 \n",
       " 1418.51  1823.04     0.0      0.0         0.0      0.0      0.0      0.0 \n",
       " 1504.45  1311.18  1928.15     0.0         0.0      0.0      0.0      0.0 \n",
       " 1465.89  1301.18  1408.31  1773.59        0.0      0.0      0.0      0.0 \n",
       " 1499.46  1418.24  1449.57  1324.83        0.0      0.0      0.0      0.0 \n",
       " 1435.81  1410.62  1380.91  1303.35  …     0.0      0.0      0.0      0.0 \n",
       " 1421.41  1351.78  1448.2   1349.12        0.0      0.0      0.0      0.0 \n",
       " 1507.19  1403.42  1447.45  1389.27        0.0      0.0      0.0      0.0 \n",
       " 1457.17  1397.25  1457.91  1376.94        0.0      0.0      0.0      0.0 \n",
       " 1589.37  1432.49  1482.11  1394.2         0.0      0.0      0.0      0.0 \n",
       " 1437.32  1393.46  1406.04  1303.85  …     0.0      0.0      0.0      0.0 \n",
       " 1445.39  1368.38  1445.02  1347.5         0.0      0.0      0.0      0.0 \n",
       " 1492.22  1362.47  1512.01  1405.49        0.0      0.0      0.0      0.0 \n",
       "    ⋮                                ⋱                                    \n",
       " 1485.52  1300.09  1373.84  1276.21        0.0      0.0      0.0      0.0 \n",
       " 1476.12  1371.46  1448.92  1390.54        0.0      0.0      0.0      0.0 \n",
       " 1459.94  1352.75  1450.78  1274.7   …     0.0      0.0      0.0      0.0 \n",
       " 1479.9   1353.71  1440.11  1326.6         0.0      0.0      0.0      0.0 \n",
       " 1442.01  1350.26  1330.16  1319.05        0.0      0.0      0.0      0.0 \n",
       " 1437.23  1312.34  1417.41  1341.9         0.0      0.0      0.0      0.0 \n",
       " 1463.19  1345.37  1492.4   1380.78        0.0      0.0      0.0      0.0 \n",
       " 1507.89  1429.09  1439.61  1366.58  …     0.0      0.0      0.0      0.0 \n",
       " 1599.69  1463.17  1534.39  1432.37     2068.8      0.0      0.0      0.0 \n",
       " 1569.7   1441.55  1530.3   1431.12     1583.55  2019.3      0.0      0.0 \n",
       " 1603.52  1496.23  1601.14  1514.24     1641.0   1619.13  2201.84     0.0 \n",
       " 1510.29  1397.79  1457.55  1370.48     1528.2   1542.45  1612.23  1966.12"
      ]
     },
     "execution_count": 58,
     "metadata": {},
     "output_type": "execute_result"
    }
   ],
   "source": [
    "temp()"
   ]
  },
  {
   "cell_type": "markdown",
   "metadata": {},
   "source": [
    "## Q2\n",
    "\n",
    "0. Show the **Sherman-Morrison formula**\n",
    "$$\n",
    "\t(\\mathbf{A} + \\mathbf{u} \\mathbf{u}^T)^{-1} = \\mathbf{A}^{-1} - \\frac{1}{1 + \\mathbf{u}^T \\mathbf{A}^{-1} \\mathbf{u}} \\mathbf{A}^{-1} \\mathbf{u} \\mathbf{u}^T \\mathbf{A}^{-1},\n",
    "$$\n",
    "where $\\mathbf{A} \\in \\mathbb{R}^{n \\times n}$ is nonsingular and $\\mathbf{u} \\in \\mathbb{R}^n$. This formula supplies the inverse of the symmetric, rank-one  perturbation of $\\mathbf{A}$.\n",
    "\n",
    "0. Show the **Woodbury formula**\n",
    "$$\n",
    "\t(\\mathbf{A} + \\mathbf{U} \\mathbf{V}^T)^{-1} = \\mathbf{A}^{-1} - \\mathbf{A}^{-1} \\mathbf{U} (\\mathbf{I}_m + \\mathbf{V}^T \\mathbf{A}^{-1} \\mathbf{U})^{-1} \\mathbf{V}^T \\mathbf{A}^{-1},\n",
    "$$\n",
    "where $\\mathbf{A} \\in \\mathbb{R}^{n \\times n}$ is nonsingular, $\\mathbf{U}, \\mathbf{V} \\in \\mathbb{R}^{n \\times m}$, and $\\mathbf{I}_m$ is the $m \\times m$ identity matrix. In many applications $m$ is much smaller than $n$. Woodbury formula generalizes Sherman-Morrison and is valuable because the smaller matrix $\\mathbf{I}_m + \\mathbf{V}^T \\mathbf{A}^{-1} \\mathbf{U}$ is cheaper to invert than the larger matrix $\\mathbf{A} + \\mathbf{U} \\mathbf{V}^T$.\n",
    "\n",
    "0. Show the **binomial inversion formula**\n",
    "$$\n",
    "\t(\\mathbf{A} + \\mathbf{U} \\mathbf{B} \\mathbf{V}^T)^{-1} = \\mathbf{A}^{-1} - \\mathbf{A}^{-1} \\mathbf{U} (\\mathbf{B}^{-1} + \\mathbf{V}^T \\mathbf{A}^{-1} \\mathbf{U})^{-1} \\mathbf{V}^T \\mathbf{A}^{-1},\n",
    "$$\n",
    "where $\\mathbf{A}$ and $\\mathbf{B}$ are nonsingular.\n",
    "\n",
    "0. Show the identity\n",
    "$$\n",
    "\t\\text{det}(\\mathbf{A} + \\mathbf{U} \\mathbf{V}^T) = \\text{det}(\\mathbf{A}) \\text{det}(\\mathbf{I}_m + \\mathbf{V}^T \\mathbf{A}^{-1} \\mathbf{U}).\n",
    "$$\n",
    "This formula is useful for evaluating the density of a multivariate normal with covariance matrix $\\mathbf{A} + \\mathbf{U} \\mathbf{V}^T$."
   ]
  },
  {
   "cell_type": "markdown",
   "metadata": {},
   "source": [
    "1. Assume $(\\mathbf{A} + \\mathbf{uu}^{T})$ is invertible. I will show the Sherman-Morrison formula satisfies the properties of an inverse.\n",
    "$$\n",
    "\\begin{align}\n",
    "(\\mathbf{A} + \\mathbf{uu}^{T})\\bigg(\\mathbf{A}^{-1} - \\frac{1}{1+\\mathbf{u}^{T}\\mathbf{A}^{-1}\\mathbf{u}}\\mathbf{A}^{-1}\\mathbf{uu}^{T}\\mathbf{A}^{-1}\\bigg) &=\\mathbf{I} - \\frac{\\mathbf{uu}^{T}\\mathbf{A}^{-1}}{1+\\mathbf{u}^{T}\\mathbf{A}^{-1}\\mathbf{u}} + \\mathbf{uu}^{T}A^{-1}\\mathbf{} -\\frac{\\mathbf{uu}^{T}\\mathbf{A}^{-1}\\mathbf{uu}^{T}\\mathbf{A}^{-1}}{1 + \\mathbf{u}^{T}\\mathbf{A}^{-1}\\mathbf{u}}\\\\\n",
    "&=\\mathbf{I} - \\frac{\\mathbf{uu}^{T}\\mathbf{A}^{-1}}{1+\\mathbf{u}^{T}\\mathbf{A}^{-1}\\mathbf{u}} + \\frac{\\mathbf{uu}^{T}A^{-1}+\\mathbf{u}^{T}\\mathbf{A}^{-1}\\mathbf{u}\\mathbf{uu}^{T}\\mathbf{A}^{-1}}{1+\\mathbf{u}^{T}\\mathbf{A}^{-1}\\mathbf{u}} -\\frac{\\mathbf{uu}^{T}\\mathbf{A}^{-1}\\mathbf{uu}^{T}\\mathbf{A}^{-1}}{1 + \\mathbf{u}^{T}\\mathbf{A}^{-1}\\mathbf{u}}\\\\\n",
    "&=\\mathbf{I} + \\frac{\\mathbf{uu}^{T}\\mathbf{A}^{-1}\\mathbf{uu}^{T}\\mathbf{A}^{-1}}{1+\\mathbf{u}^{T}\\mathbf{A}^{-1}\\mathbf{u}}-\\frac{\\mathbf{uu}^{T}\\mathbf{A}^{-1}\\mathbf{uu}^{T}\\mathbf{A}^{-1}}{1 + \\mathbf{u}^{T}\\mathbf{A}^{-1}\\mathbf{u}}\\\\\n",
    "&=\\mathbf{I}\n",
    "\\end{align}\n",
    "$$\n",
    "This shows the Sherman-Morrison formula is a right-inverse. I need to check it's a left-inverse as well.\n",
    "$$\n",
    "\\begin{align}\n",
    "\\bigg(\\mathbf{A}^{-1} - \\frac{1}{1+\\mathbf{u}^{T}\\mathbf{A}^{-1}\\mathbf{u}}\\mathbf{A}^{-1}\\mathbf{uu}^{T}\\mathbf{A}^{-1}\\bigg) (\\mathbf{A} + \\mathbf{uu}^{T})&=\\mathbf{I} + \\mathbf{A}^{-1}\\mathbf{uu}^{T} - \\frac{\\mathbf{A}^{-1}\\mathbf{uu}^{T}}{1+\\mathbf{u}^{T}\\mathbf{A}^{-1}\\mathbf{u}} - \\frac{\\mathbf{A}^{-1}\\mathbf{uu}^{T}\\mathbf{A}^{-1}\\mathbf{uu}^{T}}{1+\\mathbf{u}^{T}\\mathbf{A}^{-1}\\mathbf{u}}\\\\\n",
    "&=\\mathbf{I} + \\frac{\\mathbf{A}^{-1}\\mathbf{uu}^{T}+\\mathbf{u}^{T}\\mathbf{A}^{-1}\\mathbf{u}\\mathbf{A}^{-1}\\mathbf{uu}^{T}-\\mathbf{A}^{-1}\\mathbf{uu}^{T}-\\mathbf{A}^{-1}\\mathbf{uu}^{T}\\mathbf{A}^{-1}\\mathbf{uu}^{T}}{1+\\mathbf{u}^{T}\\mathbf{A}^{-1}\\mathbf{u}}\\\\\n",
    "&= \\mathbf{I}\n",
    "\\end{align}\n",
    "$$\n",
    "\n",
    " By definition of inverse,  $(\\mathbf{A} + \\mathbf{uu}^{T})^{-1}=\\mathbf{A}^{-1} - \\displaystyle\\frac{1}{1 + \\mathbf{u}^T \\mathbf{A}^{-1} \\mathbf{u}} \\mathbf{A}^{-1} \\mathbf{u} \\mathbf{u}^T \\mathbf{A}^{-1}$\n",
    " \n",
    "2. In a similar manner,\n",
    "$$\n",
    "\\begin{align}\n",
    "(\\mathbf{A} + \\mathbf{UV}^{T})(\\mathbf{A}^{-1} - \\mathbf{A}^{-1} \\mathbf{U} (\\mathbf{I}_m + \\mathbf{V}^T \\mathbf{A}^{-1} \\mathbf{U})^{-1} \\mathbf{V}^T \\mathbf{A}^{-1})&=\\mathbf{I_n} + \\mathbf{UV}^{T}\\mathbf{A}^{-1}-\\mathbf{U}(\\mathbf{I_m}\n",
    "+\\mathbf{V}^{T}\\mathbf{A}^{-1}\\mathbf{U})^{-1}\\mathbf{V}^{T}\\mathbf{A}^{-1} - \\mathbf{UV}^{T}\\mathbf{A}^{-1}\\mathbf{U}(\\mathbf{I_m}+\\mathbf{V}^{T}\\mathbf{A}^{-1}\\mathbf{U})\\mathbf{V}^{T}\\mathbf{A}^{-1}\\\\\n",
    "&=\\mathbf{I_n}+\\mathbf{UV}^{T}\\mathbf{A}^{-1}-(\\mathbf{U}+\\mathbf{UV}^{T}\\mathbf{A}^{-1}\\mathbf{U})(\\mathbf{I_m}+\\mathbf{V}^{T}\\mathbf{A}^{-1}\\mathbf{U})^{-1}\\mathbf{V}^{T}\\mathbf{A}^{-1}\\\\\n",
    "&=\\mathbf{I_n} + \\mathbf{UV}^{T}\\mathbf{A}^{-1}-\\mathbf{U}(\\mathbf{I_m}+\\mathbf{V}^{T}\\mathbf{A}^{-1}\\mathbf{U})(\\mathbf{I_m}+\\mathbf{V}^{T}\\mathbf{A}^{-1}\\mathbf{U})^{-1}\\mathbf{V}^{T}\\mathbf{A}^{-1}\\\\\n",
    "&=\\mathbf{I_n}+\\mathbf{UV}^{T}\\mathbf{A}^{-1}-\\mathbf{U}\\mathbf{V}^{T}\\mathbf{A}^{-1}\\\\\n",
    "&=\\mathbf{I_n}\n",
    "\\end{align}\n",
    "$$\n",
    " \n",
    " This shows the Woodbury formula is a right inverse for $\\mathbf{A} + \\mathbf{UV}^{T}$. To show it's a left inverse:\n",
    "$$\n",
    "\\begin{align}\n",
    "(\\mathbf{A}^{-1} - \\mathbf{A}^{-1} \\mathbf{U} (\\mathbf{I}_m + \\mathbf{V}^T \\mathbf{A}^{-1} \\mathbf{U})^{-1} \\mathbf{V}^T \\mathbf{A}^{-1})(\\mathbf{A} + \\mathbf{UV}^{T})&= \\mathbf{I_n} + \\mathbf{A}^{-1}\\mathbf{UV}^{T}-\\mathbf{A}^{-1}\\mathbf{U}(\\mathbf{I_m}+\\mathbf{V}^{T}\\mathbf{A}^{-1}\\mathbf{U})^{-1}\\mathbf{V}^{T}-\\mathbf{A}^{-1}\\mathbf{U}(\\mathbf{I_m}+\\mathbf{V}^{T}\\mathbf{A}^{-1}\\mathbf{U})^{-1}\\mathbf{V}^{T}\\mathbf{A}^{-1}\\mathbf{UV}^{T}\\\\\n",
    "&=\\mathbf{I_n}+\\mathbf{A}^{-1}\\mathbf{UV}^{T}-\\mathbf{A}^{-1}\\mathbf{U}(\\mathbf{I_m}+\\mathbf{V}^{T}\\mathbf{A}^{-1}\\mathbf{U})^{-1}(\\mathbf{V}^{T}+\\mathbf{V}^{T}\\mathbf{A}^{-1}\\mathbf{UV}^{T})\\\\\n",
    "&=\\mathbf{I_n}+\\mathbf{A}^{-1}\\mathbf{UV}^{T}-\\mathbf{A}^{-1}\\mathbf{U}(\\mathbf{I_m}+\\mathbf{V}^{T}\\mathbf{A}^{-1}\\mathbf{U})^{-1}(\\mathbf{I_m}+\\mathbf{V}^{T}\\mathbf{A}^{-1}\\mathbf{U})\\mathbf{V}^{T}\\\\\n",
    "&=\\mathbf{I_n}+\\mathbf{A}^{-1}\\mathbf{UV}^{T}-\\mathbf{A}^{-1}\\mathbf{UV}^{T}\\\\\n",
    "&=\\mathbf{I_n}\n",
    "\\end{align}\n",
    "$$\n",
    "\n",
    " By definition of inverse, $(\\mathbf{A} + \\mathbf{UV}^{T})^{-1}=(\\mathbf{A}^{-1} - \\mathbf{A}^{-1} \\mathbf{U} (\\mathbf{I}_m + \\mathbf{V}^T \\mathbf{A}^{-1} \\mathbf{U})^{-1} \\mathbf{V}^T \\mathbf{A}^{-1})$\n",
    " \n",
    "3. Continuing, \n",
    "$$\n",
    "\\begin{align}\n",
    "(\\mathbf{A}+\\mathbf{UBV}^{T})(\\mathbf{A}^{-1} - \\mathbf{A}^{-1} \\mathbf{U} (\\mathbf{B}^{-1} + \\mathbf{V}^T \\mathbf{A}^{-1} \\mathbf{U})^{-1} \\mathbf{V}^T \\mathbf{A}^{-1})&= \\mathbf{I_n}-\\mathbf{U}(\\mathbf{B}^{-1}+\\mathbf{V}^{T}\\mathbf{A}^{-1}\\mathbf{U})^{-1}\\mathbf{V}^{T}\\mathbf{A}^{-1}+\\mathbf{UBV}^{T}\\mathbf{A}^{-1}-\\mathbf{UBV}^{T}\\mathbf{A}^{-1}\\mathbf{U}(\\mathbf{B}^{-1}+\\mathbf{V}^{T}\\mathbf{A}^{-1}\\mathbf{U})^{-1}\\mathbf{V}^{T}\\mathbf{A}^{-1}\\\\\n",
    "&=\\mathbf{I_n}+\\mathbf{UBV}^{T}\\mathbf{A}^{-1}-(\\mathbf{U}+\\mathbf{UBV}^{T}\\mathbf{A}^{-1}\\mathbf{U})(\\mathbf{B}^{-1}+\\mathbf{V}^{T}\\mathbf{A}^{-1}\\mathbf{U})^{-1}\\mathbf{V}^{T}\\mathbf{A}^{-1}\\\\\n",
    "&=\\mathbf{I_n}+\\mathbf{UBV}^{T}\\mathbf{A}^{-1}-\\mathbf{UB}(\\mathbf{B}^{-1}+\\mathbf{V}^{T}\\mathbf{A}^{-1}\\mathbf{U})(\\mathbf{B}^{-1}+\\mathbf{V}^{T}\\mathbf{A}^{-1}\\mathbf{U})^{-1}\\mathbf{V}^{T}\\mathbf{A}^{-1}\\\\\n",
    "&=\\mathbf{I_n}+\\mathbf{UBV}^{T}\\mathbf{A}^{-1}-\\mathbf{UBV}^{T}\\mathbf{A}^{-1}\\\\\n",
    "&=\\mathbf{I_n}\n",
    "\\end{align}\n",
    "$$\n",
    "\n",
    " Left inverse:\n",
    "$$\n",
    "\\begin{align}\n",
    "(\\mathbf{A}^{-1} - \\mathbf{A}^{-1} \\mathbf{U} (\\mathbf{B}^{-1} + \\mathbf{V}^T \\mathbf{A}^{-1} \\mathbf{U})^{-1} \\mathbf{V}^T \\mathbf{A}^{-1})(\\mathbf{A}+\\mathbf{UBV}^{T})&=\\mathbf{I_n} + \\mathbf{A}^{-1}\\mathbf{UBV}^{T}-\\mathbf{A}^{-1}\\mathbf{U}(\\mathbf{B}^{-1}+\\mathbf{V}^{T}\\mathbf{A}^{-1}\\mathbf{U})^{-1}-\\mathbf{A}^{-1}\\mathbf{U}(\\mathbf{B}^{-1}+\\mathbf{V}^{T}\\mathbf{A}^{-1}\\mathbf{U})^{-1}\\mathbf{V}^{T}\\mathbf{A}^{-1}\\mathbf{UBV}^{T}\\\\\n",
    "&=\\mathbf{I_n}+\\mathbf{A}^{-1}\\mathbf{UBV}^{T}-\\mathbf{A}^{-1}\\mathbf{U}(\\mathbf{B}^{-1}+\\mathbf{V}^{T}\\mathbf{A}^{-1}\\mathbf{U})^{-1}(\\mathbf{V}^{T}+\\mathbf{V}^{T}\\mathbf{A}^{-1}\\mathbf{UBV}^{T})\\\\\n",
    "&=\\mathbf{I_n}+\\mathbf{A}^{-1}\\mathbf{UBV}^{T}-\\mathbf{A}^{-1}\\mathbf{U}(\\mathbf{B}^{-1}+\\mathbf{V}^{T}\\mathbf{A}^{-1}\\mathbf{U})^{-1}(\\mathbf{B}^{-1}+\\mathbf{V}^{T}\\mathbf{A}^{-1}\\mathbf{U})\\mathbf{BV}^{T}\\\\\n",
    "&=\\mathbf{I_n}+\\mathbf{A}^{-1}\\mathbf{UBV}^{T}-\\mathbf{A}^{-1}\\mathbf{UBV}^{T}\\\\\n",
    "&=\\mathbf{I_n}\n",
    "\\end{align}\n",
    "$$\n",
    " This shows $(\\mathbf{A}+\\mathbf{UBV}^{T})^{-1} = \\mathbf{A}^{-1} - \\mathbf{A}^{-1} \\mathbf{U} (\\mathbf{B}^{-1} + \\mathbf{V}^T \\mathbf{A}^{-1} \\mathbf{U})^{-1} \\mathbf{V}^T \\mathbf{A}^{-1}$\n",
    " \n",
    "4. Observate that\n",
    " $$\n",
    "\\begin{align}\n",
    "\\begin{pmatrix}\\mathbf{I_n} & \\mathbf{U}\\\\\\mathbf{0_{m\\times n}} & \\mathbf{I_m}+\\mathbf{V}^{T}\\mathbf{U}\\end{pmatrix} = \\begin{pmatrix}\\mathbf{I_n} & \\mathbf{0_{n\\times m}}\\\\\\mathbf{V}^{T} & \\mathbf{I_m}\\end{pmatrix}\\begin{pmatrix}\\mathbf{I_n}+\\mathbf{U}\\mathbf{V}^{T} & \\mathbf{U}\\\\\\mathbf{0_{m\\times n}} & \\mathbf{I_m}\\end{pmatrix}\\begin{pmatrix}\\mathbf{I_n} & \\mathbf{0_{n\\times m}}\\\\-\\mathbf{V}^{T} & \\mathbf{I_m}\\end{pmatrix}\n",
    "\\end{align}\n",
    "$$\n",
    "\n",
    " The determinant of a product is the product of determinants. Thus, $\\text{det}(\\mathbf{I_n} + \\mathbf{UV}^{T}) = \\text{det}(\\mathbf{I_m}+\\mathbf{V}^{T}\\mathbf{U})$\n",
    " \n",
    " Therefore\n",
    "$$\n",
    "\\begin{align}\n",
    "\\text{det}(\\mathbf{A}+\\mathbf{U}\\mathbf{V}^{T}) &=\\text{det}(\\mathbf{A}+\\mathbf{A}\\mathbf{A}^{-1}\\mathbf{UV}^{T})\\\\\n",
    "&=\\text{det}(\\mathbf{A})\\text{det}(\\mathbf{I_n}+\\mathbf{A}^{-1}\\mathbf{UV}^{T})\\\\\n",
    "&=\\text{det}(\\mathbf{A})\\text{det}(\\mathbf{I_m}+\\mathbf{V}^{T}\\mathbf{A}^{-1}\\mathbf{U})\n",
    "\\end{align}\n",
    "$$"
   ]
  },
  {
   "cell_type": "code",
   "execution_count": null,
   "metadata": {
    "collapsed": true
   },
   "outputs": [],
   "source": []
  }
 ],
 "metadata": {
  "kernelspec": {
   "display_name": "Julia 0.5.1",
   "language": "julia",
   "name": "julia-0.5"
  },
  "language_info": {
   "file_extension": ".jl",
   "mimetype": "application/julia",
   "name": "julia",
   "version": "0.5.1"
  }
 },
 "nbformat": 4,
 "nbformat_minor": 2
}
