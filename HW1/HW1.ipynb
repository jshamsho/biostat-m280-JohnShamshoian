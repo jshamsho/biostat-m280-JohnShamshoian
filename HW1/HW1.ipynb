{
 "cells": [
  {
   "cell_type": "markdown",
   "metadata": {},
   "source": [
    "John Shamshoian\n",
    "\n",
    "Homework 1\n",
    "\n",
    "# Q2\n",
    "\n",
    "1. Associative rule for addition says <code>(x + y) + z == x + (y + z)</code>. Check association rule using <code>x = 0.1, y = 0.1</code> and <code>z = 1.0</code> in Julia. Explain what you find.\n",
    "2. Do floating-point numbers obey the associative rule for multiplication: (x * y) * z == x * (y * z)?\n",
    "3. Do floating-point numbers obey the distributive rule: a * (x + y) == a * x + a * y?\n",
    "4. Is 0 * x == 0 true for all floating-point number x?\n",
    "5. Is x / a == x * (1 / a) always true?"
   ]
  },
  {
   "cell_type": "code",
   "execution_count": null,
   "metadata": {
    "collapsed": false
   },
   "outputs": [],
   "source": [
    "# Question 2.1: Additive association rule\n",
    "x = 0.1;\n",
    "y = 0.1;\n",
    "z = 1.0;\n",
    "logical1 = (x + y) + z == x + (y + z)\n",
    "\n",
    "# Question 2.2: Multiplicative association rule\n",
    "x = realmax(Float32)\n",
    "y = realmax(Float32)\n",
    "z = realmin(Float32)/4\n",
    "logical2 = (x * y) * z == x * (y * z)\n",
    "\n",
    "# Question 2.3: Distributive property\n",
    "x = realmax(Float32)\n",
    "y = realmax(Float32)\n",
    "z = .5\n",
    "logical3 = z * (x + y) == z * x + z * y\n",
    "\n",
    "# Question 2.5: Reciprocal property\n",
    "a = Float32(.1)\n",
    "x = Float32(5)\n",
    "logical4 = a / x == a * (1 / x)\n",
    "\n",
    "# Show that floating point numbers do not respect familiar mathematical rules:\n",
    "print(logical1, '\\n', logical2, '\\n', logical3, '\\n', logical4)"
   ]
  },
  {
   "cell_type": "markdown",
   "metadata": {},
   "source": [
    "Here I provide counter examples to prove that the additive association rule, multiplicative association rule, distributive property, and the reciprocal property do not hold for floating point numbers. However, <code>0 * x = 0</code> unless x is <code>NaN</code> or infinity."
   ]
  },
  {
   "cell_type": "markdown",
   "metadata": {},
   "source": [
    "# Q3\n",
    "\n",
    "Consider Julia function\n",
    "```julia\n",
    "function g(k)\n",
    "    for i = 1:10\n",
    "        k = 5k - 1\n",
    "    end\n",
    "    k\n",
    "end\n",
    "```\n",
    "Use @code_llvm to find the LLVM bitcode of compiled g with Int64 input. Does the result surprise you?\n",
    "Use @code_llvm to find the LLVM bitcode of compiled g with Float64 input. Does the result surprise you?\n",
    "Read Julia documentation on @fastmath and repeat the last question on the function\n",
    "\n",
    "```julia\n",
    "function g_fastmath(k)  \n",
    "    @fastmath for i = 1:10  \n",
    "        k = 5k - 1\n",
    "    end\n",
    "    k\n",
    "end\n",
    "```"
   ]
  },
  {
   "cell_type": "code",
   "execution_count": null,
   "metadata": {
    "collapsed": false
   },
   "outputs": [],
   "source": [
    "# Clear all function definitions to avoid overwriting function warnings\n",
    "workspace()\n",
    "\n",
    "function g(k)\n",
    "    for i = 1:10\n",
    "        k = 5k - 1\n",
    "    end\n",
    "    k\n",
    "end\n",
    "\n",
    "print(\"LLVM bitcode with Int64 input\")\n",
    "@code_llvm g(1) \n",
    "print(\"--------------------------------\", '\\n')\n",
    "print(\"LLVM bitcode with Float64 input\")\n",
    "@code_llvm g(1.0)\n",
    "\n",
    "# Try using fastmath with looping\n",
    "function g_fastmath(k)  \n",
    "    @fastmath for i = 1:10  \n",
    "        k = 5k - 1\n",
    "    end\n",
    "    k\n",
    "end\n",
    "\n",
    "print(\"---------------------------------\",'\\n')\n",
    "print(\"LLVM bitcode with Float64 input using fastmath\")\n",
    "@code_llvm g_fastmath(1.0)"
   ]
  },
  {
   "cell_type": "markdown",
   "metadata": {},
   "source": [
    "1. It seems like Julia is doing a single addition and a single multiplication. This surprises me because Julia isn't looping even though the program looks like it should. \n",
    "\n",
    "2. Julia is doing 10 additions and 10 multiplications. This does not surprise me because for each iteration of the loop there is an addition and a multiplication. Julia is looping in this case.\n",
    "\n",
    "3. Julia is doing a single addition and a single multiplication. The documentation says @fastmath re-arranges floating-point expressions for greater efficiency. After seeing that Julia can optimize code to avoid loops, this result does not surprise me."
   ]
  },
  {
   "cell_type": "markdown",
   "metadata": {},
   "source": [
    "# Q4\n",
    "\n",
    "Create the vector ``x = (0.988, 0.989, 0.990, ..., 1.010, 1.011, 1.012)``.\n",
    "\n",
    "1. Plot the polynomial y = x^7 - 7x^6 + 21x^5 - 35x^4 + 35x^3 - 21x^2 + 7x -1 at points x.\n",
    "2. Plot the polynomial y = (x - 1)^7 at points x.\n",
    "3. Explain what you found."
   ]
  },
  {
   "cell_type": "code",
   "execution_count": null,
   "metadata": {
    "collapsed": false
   },
   "outputs": [],
   "source": [
    "using BenchmarkTools\n",
    "\n",
    "using Plots\n",
    "plotly()\n",
    "\n",
    "x = collect(0.988:0.001:1.012);\n",
    "\n",
    "# Create function for polynomial\n",
    "poly(x::Vector{Float64}) = x.^7 - 7 * x.^6 + 21 * x.^5 - 35 * x.^4 + 35 * x.^3 - 21 * x.^2 + 7 * x - 1\n",
    "plot(x, poly(x), label = \"\", xlabel = \"x\", ylabel = \"f(x)\")"
   ]
  },
  {
   "cell_type": "code",
   "execution_count": null,
   "metadata": {
    "collapsed": false
   },
   "outputs": [],
   "source": [
    "# Evaluate the polynomial at x - 1 instead of x\n",
    "plot(x, (x - 1).^7, label = \"\", xlabel = \"x\", ylabel = \"f(x - 1)\")"
   ]
  },
  {
   "cell_type": "markdown",
   "metadata": {
    "collapsed": false
   },
   "source": [
    "The polynomial in part 1 looks jagged because the function evaluation of <code>poly()</code> loses precision with subtraction of nearly equal numbers. The polynomial in part 2 is mathematicaly equivalent to the polynomial in part 1, but avoids loss of precision with rounding errors. "
   ]
  },
  {
   "cell_type": "markdown",
   "metadata": {},
   "source": [
    "# Q5\n",
    "Read in the matrix in the file <code>longley.txt</code> on the macroeconomic data from 1947 to 1962. The columns are Employment, Prices, GNP, Jobless, Military, PopSize and Year. Plot the pairwise scatter plot between these variables. What do you observe?"
   ]
  },
  {
   "cell_type": "code",
   "execution_count": null,
   "metadata": {
    "collapsed": false
   },
   "outputs": [
    {
     "data": {
      "image/png": "[encoded data removed]"
     },
     "metadata": {},
     "output_type": "display_data"
    }
   ],
   "source": [
    "using DataFrames\n",
    "using Requests\n",
    "using RCall\n",
    "url = \"http://hua-zhou.github.io/teaching/biostatm280-2017spring/hw/longley.txt\"\n",
    "\n",
    "# Read in data\n",
    "df = readtable(Requests.get_streaming(url),header = false, separator = ' ');\n",
    "\n",
    "# Rename columns to something more meaningful\n",
    "rename!(df, [:x1, :x2, :x3, :x4, :x5, :x6, :x7], [:Employment, :Prices, :GNP, :Jobless, :Military, :PopSize, :Year]);\n",
    "\n",
    "@rput df;\n",
    "R\"plot(df)\""
   ]
  },
  {
   "cell_type": "code",
   "execution_count": null,
   "metadata": {
    "collapsed": true
   },
   "outputs": [],
   "source": []
  },
  {
   "cell_type": "markdown",
   "metadata": {},
   "source": [
    "# Q6\n",
    "\n",
    "Let the  $n\\times n$  matrix H have elements <code>H[i, j] = 1 / (i + j - 1)</code>.\n",
    "1. Write a function h(n) that outputs  n×nn×n  matrix H. Try at least 3 ways, e.g., looping, comprehension, and vectorization. Compute and print H for n = 5.\n",
    "2. Compare their efficiencies at n = 1000.\n",
    "3. Try different rounding modes (use function setrounding(Float64, RoundingMode)) and report the entry inv(H)[1, 1] for n = 15."
   ]
  },
  {
   "cell_type": "code",
   "execution_count": null,
   "metadata": {
    "collapsed": false
   },
   "outputs": [],
   "source": [
    "workspace()\n",
    "n = 1000;\n",
    "\n",
    "# Comprehension\n",
    "function H1(n)\n",
    "    H = Array(Float64);\n",
    "    H = [1 / (i + j -1) for i=1:n, j=1:n];\n",
    "end\n",
    "\n",
    "# Looping\n",
    "function H2(n)\n",
    "    H2 = Array(Float64, n, n)\n",
    "    for i = 1:n\n",
    "        for j = 1:n\n",
    "            H2[i, j] = 1 / (i + j - 1);\n",
    "        end\n",
    "    end\n",
    "    H2;\n",
    "end\n",
    "\n",
    "# Vectorization\n",
    "function H3(n)\n",
    "    H3 = Array(Float64, n, n)\n",
    "    x = collect(1.0:1:n)\n",
    "    y = repmat(x, n)\n",
    "    z = reshape(y, n, n)\n",
    "    A = z + transpose(z) - 1\n",
    "    H3 = 1 ./ A;\n",
    "end"
   ]
  },
  {
   "cell_type": "code",
   "execution_count": null,
   "metadata": {
    "collapsed": false
   },
   "outputs": [],
   "source": [
    "# Print the comprehension version\n",
    "H1(5)"
   ]
  },
  {
   "cell_type": "code",
   "execution_count": null,
   "metadata": {
    "collapsed": false
   },
   "outputs": [],
   "source": [
    "# Print the looping version\n",
    "H2(5)"
   ]
  },
  {
   "cell_type": "code",
   "execution_count": null,
   "metadata": {
    "collapsed": false
   },
   "outputs": [],
   "source": [
    "# Print the vectorization version\n",
    "H3(5)"
   ]
  },
  {
   "cell_type": "code",
   "execution_count": null,
   "metadata": {
    "collapsed": false
   },
   "outputs": [],
   "source": [
    "@benchmark H1(1000)"
   ]
  },
  {
   "cell_type": "code",
   "execution_count": null,
   "metadata": {
    "collapsed": false
   },
   "outputs": [],
   "source": [
    "@benchmark H2(1000)"
   ]
  },
  {
   "cell_type": "code",
   "execution_count": null,
   "metadata": {
    "collapsed": false
   },
   "outputs": [],
   "source": [
    "@benchmark H3(1000)"
   ]
  },
  {
   "cell_type": "code",
   "execution_count": null,
   "metadata": {
    "collapsed": false
   },
   "outputs": [],
   "source": [
    "H = H2(15);\n",
    "v = Vector(4);\n",
    "setrounding(Float64,RoundNearest) do\n",
    "    v[1] = inv(H)[1, 1]\n",
    "end\n",
    "setrounding(Float64,RoundToZero) do\n",
    "    v[2] = inv(H)[1, 1]\n",
    "end\n",
    "setrounding(Float64,RoundUp) do\n",
    "    v[3] = inv(H)[1, 1]\n",
    "end\n",
    "setrounding(Float64,RoundDown) do\n",
    "    v[4] = inv(H)[1, 1]\n",
    "end\n",
    "print(v) # inv(H)[1, 1] element with different rounding methods\n",
    "eig(H)[1] # Print eigenvalues"
   ]
  },
  {
   "cell_type": "markdown",
   "metadata": {
    "collapsed": false
   },
   "source": [
    "2. It looks like creating the matrix by looping is the fastest method. Looping and comprehension are nearly equal, whereas vectorization is much slower.\n",
    "3. I tried four different rounding methods. Some of the eigenvalues of the matrix are close to zero. This indicates a nearly singular matrix, so I'm not surprised that different rounding techniques yielded substantially different numbers."
   ]
  },
  {
   "cell_type": "code",
   "execution_count": null,
   "metadata": {
    "collapsed": false
   },
   "outputs": [],
   "source": [
    "url = \"http://hua-zhou.github.io/teaching/biostatm280-2017spring/hw/longley.txt\"\n",
    "\n",
    "# without error checking\n",
    "df = readtable(Requests.get_streaming(url), header = false, separator = ' ')"
   ]
  },
  {
   "cell_type": "code",
   "execution_count": null,
   "metadata": {
    "collapsed": false
   },
   "outputs": [],
   "source": [
    "using DataFrames\n",
    "using Requests\n",
    "url = \"http://hua-zhou.github.io/teaching/biostatm280-2017spring/hw/longley.txt\"\n",
    "\n",
    "# without error checking\n",
    "df = readtable(Requests.get_streaming(url), header = false, separator = ' ')"
   ]
  },
  {
   "cell_type": "code",
   "execution_count": null,
   "metadata": {
    "collapsed": true
   },
   "outputs": [],
   "source": []
  }
 ],
 "metadata": {
  "kernelspec": {
   "display_name": "Julia 0.5.1",
   "language": "julia",
   "name": "julia-0.5"
  },
  "language_info": {
   "file_extension": ".jl",
   "mimetype": "application/julia",
   "name": "julia",
   "version": "0.5.1"
  }
 },
 "nbformat": 4,
 "nbformat_minor": 2
}
