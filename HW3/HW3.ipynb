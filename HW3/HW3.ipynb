{
 "cells": [
  {
   "cell_type": "markdown",
   "metadata": {
    "collapsed": true
   },
   "source": [
    "John Shamshoian\n",
    "\n",
    "Homework 3\n",
    "\n",
    "# Problem 1\n",
    "\n",
    "First I will define some notation before I write the transition matrix in matrix/vector form.\n",
    "\n",
    "Let $u_i = \n",
    "\\begin{cases}\n",
    "    \\frac{1}{r_i},& \\text{if } r_i \\neq 0\\\\\n",
    "    0,              & \\text{otherwise}\n",
    "\\end{cases}\n",
    "$\n",
    "\n",
    "Let $v_i = \n",
    "\\begin{cases}\n",
    "    1,& \\text{if } r_i \\neq 0\\\\\n",
    "    0,              & \\text{otherwise}\n",
    "\\end{cases}\n",
    "$\n",
    "\n",
    "Let $w_i = \n",
    "\\begin{cases}\n",
    "    0,& \\text{if } r_i \\neq 0\\\\\n",
    "    1,              & \\text{otherwise}\n",
    "\\end{cases}\n",
    "$\n",
    "\n",
    "In scalar notation, \n",
    "$$\n",
    "\\begin{align}\n",
    "p_{ij} &= p * A_{ij} * u_i + \\frac{1 - p}{n} * v_i + \\frac{1}{n} * w_i\\\\\n",
    "& = p * A_{ij} * u_i + \\frac{1}{n} - \\frac{p}{n}*v_i\\\\\n",
    "& = p * A_{ij} * u_i + n^{-1}(1 - p)v_i\n",
    "\\end{align}\n",
    "$$\n",
    "\n",
    "Let $\\mathbf{u}, \\mathbf{v}, \\mathbf{w}$ be the corresponding column vectors. Let $1_n$ denote a $n\\times 1$ column vector. Let $I_n$ be the $n\\times n$ identity matrix.\n",
    "\n",
    "$$\n",
    "\\begin{align}\n",
    "P &= p\\cdot Diagonal(\\mathbf{u}) \\cdot A  + n^{-1}[I_n - Diagonal(\\mathbf{v})\\cdot p]\\cdot 1_n 1_n'\\\\\n",
    "& = U + z\\cdot 1_n'\n",
    "\\end{align}\n",
    "$$\n",
    "\n",
    "Where $U$ is a sparse matrix and $z$ is a vector."
   ]
  },
  {
   "cell_type": "markdown",
   "metadata": {},
   "source": [
    "# Problem 2\n",
    "\n",
    "If $\\mathbf{P}^{T}\\mathbf{x} = \\mathbf{x}$, then $(\\mathbf{P}^{T} - \\mathbf{I})\\mathbf{x} = \\mathbf{0}$\n",
    "\n",
    "If we want to constrain $\\mathbf{x}$ to have $\\sum_{i=1}^{n}x_i = 1$, we can solve the augmented equation $\\begin{pmatrix}1_n'\\\\\\mathbf{P}^{T}-\\mathbf{I}\\end{pmatrix}\\mathbf{x} = \\begin{pmatrix}1\\\\0\\\\\\vdots\\\\0\\end{pmatrix}$"
   ]
  },
  {
   "cell_type": "code",
   "execution_count": 2,
   "metadata": {
    "collapsed": false
   },
   "outputs": [],
   "source": [
    "# Load in packages\n",
    "using RCall, WoodburyMatrices, BenchmarkTools"
   ]
  },
  {
   "cell_type": "code",
   "execution_count": 3,
   "metadata": {
    "collapsed": false
   },
   "outputs": [
    {
     "name": "stdout",
     "output_type": "stream",
     "text": [
      "Number of pages is 500\n",
      "Number of edges is 10853\n",
      "Number of dangling pages is 103\n",
      "The page with the max in-degree is page [1]\n",
      "The page with the max out-degree is page [36,377,380,381,382,384]"
     ]
    }
   ],
   "source": [
    "# Problem 3\n",
    "\n",
    "# Read in the 500 by 500 connectivity matrix\n",
    "A = readcsv(\"E:/Classes/BiostatisticsM280/Submissions/biostat-m280-JohnShamshoian/HW3/A.txt\");\n",
    "\n",
    "# Subtract off the diagonal. We don't count webpages that link to itself\n",
    "A = A - Diagonal(A)\n",
    "\n",
    "# List of 500 websites.\n",
    "websites = readcsv(\"E:/Classes/BiostatisticsM280/Submissions/biostat-m280-JohnShamshoian/HW3/U.txt\")[:, 1]\n",
    "\n",
    "# Number of pages\n",
    "print(\"Number of pages is \", size(A)[1])\n",
    "\n",
    "# Number of edges\n",
    "print(\"\\nNumber of edges is \", Int64(sum(A)))\n",
    "\n",
    "# Number of dangling pages\n",
    "print(\"\\nNumber of dangling pages is \", size(A)[1] - countnz(sum(A, 2)))\n",
    "\n",
    "# Page with max in-degree\n",
    "print(\"\\nThe page with the max in-degree is page \", findin(sum(A, 1), maximum(sum(A, 1))))\n",
    "\n",
    "# Page with max out-degree\n",
    "print(\"\\nThe page with the max out-degree is page \", findin(sum(A, 2), maximum(sum(A, 2))))"
   ]
  },
  {
   "cell_type": "code",
   "execution_count": 5,
   "metadata": {
    "collapsed": false
   },
   "outputs": [
    {
     "data": {
      "image/png": "[encoded data removed]"
     },
     "metadata": {},
     "output_type": "display_data"
    },
    {
     "data": {
      "text/plain": [
       "RCall.RObject{RCall.NilSxp}\n",
       "NULL\n"
      ]
     },
     "execution_count": 5,
     "metadata": {},
     "output_type": "execute_result"
    }
   ],
   "source": [
    "# Visualize the sparsity pattern of A. I decided to use R because other Julia packages did not work\n",
    "# well on my computer. \n",
    "@rput A\n",
    "\n",
    "R\"\"\"\n",
    "library(SparseM)\n",
    "image(as.matrix.csr(A))\n",
    "\"\"\""
   ]
  },
  {
   "cell_type": "code",
   "execution_count": 6,
   "metadata": {
    "collapsed": false
   },
   "outputs": [],
   "source": [
    "# Problem 4\n",
    "\n",
    "# Function to return the transition matrix, U, and z defined in the notation from problem 1.\n",
    "function transition(A, p)\n",
    "    n, m = size(A)\n",
    "    u, v = Array(Float64, 500), Array(Float64, 500)\n",
    "    \n",
    "    # think of u and v as indicator functions.\n",
    "    # they check if a webpage has any links on it.\n",
    "    for i = 1:500\n",
    "        if sum(A, 2)[i] == 0.0\n",
    "            u[i] = 0.0\n",
    "            v[i] = 0.0\n",
    "        else\n",
    "            u[i] = 1.0 / sum(A, 2)[i]\n",
    "            v[i] = 1.0\n",
    "        end\n",
    "    end\n",
    "    P = p * Diagonal(u) * A + 1 / n * (I - Diagonal(v) * p) * ones(n) * ones(n)'\n",
    "    U = p * Diagonal(u) * A\n",
    "    z = 1 / n * (I - Diagonal(v) * p) * ones(n)\n",
    "    return P, U, z\n",
    "end\n",
    "\n",
    "# Number of webpages. \n",
    "n = size(A)[1]\n",
    "\n",
    "# Set teleportation parameter to .85\n",
    "p = .85\n",
    "\n",
    "# Return the transition matrix, U, and z\n",
    "P, U, z = transition(A, p);"
   ]
  },
  {
   "cell_type": "code",
   "execution_count": 7,
   "metadata": {
    "collapsed": false
   },
   "outputs": [
    {
     "data": {
      "text/plain": [
       "500-element Array{Float64,1}:\n",
       " 0.0127701 \n",
       " 0.00130393\n",
       " 0.00405405\n",
       " 0.00398338\n",
       " 0.00130393\n",
       " 0.00130393\n",
       " 0.00130393\n",
       " 0.00130393\n",
       " 0.00130393\n",
       " 0.00130393\n",
       " 0.00130393\n",
       " 0.00145083\n",
       " 0.00141309\n",
       " ⋮         \n",
       " 0.0011959 \n",
       " 0.00149245\n",
       " 0.0011959 \n",
       " 0.00345944\n",
       " 0.00211007\n",
       " 0.0011959 \n",
       " 0.0011959 \n",
       " 0.0084935 \n",
       " 0.0011959 \n",
       " 0.00149103\n",
       " 0.0011959 \n",
       " 0.0011959 "
      ]
     },
     "execution_count": 7,
     "metadata": {},
     "output_type": "execute_result"
    }
   ],
   "source": [
    "# Solve linear system using problem 2 idea\n",
    "J = P' - I\n",
    "\n",
    "# Have first row sum to one\n",
    "J[1, :] = ones(n)\n",
    "b = vcat(1, zeros(n - 1))\n",
    "\n",
    "# Dense linear solver\n",
    "x = lufact!(J) \\ b"
   ]
  },
  {
   "cell_type": "code",
   "execution_count": 8,
   "metadata": {
    "collapsed": false
   },
   "outputs": [
    {
     "data": {
      "text/plain": [
       "500-element Array{Float64,1}:\n",
       " 0.0127701 \n",
       " 0.00130393\n",
       " 0.00405405\n",
       " 0.00398338\n",
       " 0.00130393\n",
       " 0.00130393\n",
       " 0.00130393\n",
       " 0.00130393\n",
       " 0.00130393\n",
       " 0.00130393\n",
       " 0.00130393\n",
       " 0.00145083\n",
       " 0.00141309\n",
       " ⋮         \n",
       " 0.0011959 \n",
       " 0.00149245\n",
       " 0.0011959 \n",
       " 0.00345944\n",
       " 0.00211007\n",
       " 0.0011959 \n",
       " 0.0011959 \n",
       " 0.0084935 \n",
       " 0.0011959 \n",
       " 0.00149103\n",
       " 0.0011959 \n",
       " 0.0011959 "
      ]
     },
     "execution_count": 8,
     "metadata": {},
     "output_type": "execute_result"
    }
   ],
   "source": [
    "# Dense eigensolver\n",
    "v = Float64.(eigvecs(P')[:, 1])\n",
    "\n",
    "# Have the eigenvector sum to 1\n",
    "v/sum(v)"
   ]
  },
  {
   "cell_type": "code",
   "execution_count": 9,
   "metadata": {
    "collapsed": false
   },
   "outputs": [
    {
     "data": {
      "text/plain": [
       "500-element Array{Float64,1}:\n",
       " 0.0127701 \n",
       " 0.00130393\n",
       " 0.00405405\n",
       " 0.00398338\n",
       " 0.00130393\n",
       " 0.00130393\n",
       " 0.00130393\n",
       " 0.00130393\n",
       " 0.00130393\n",
       " 0.00130393\n",
       " 0.00130393\n",
       " 0.00145083\n",
       " 0.00141309\n",
       " ⋮         \n",
       " 0.0011959 \n",
       " 0.00149245\n",
       " 0.0011959 \n",
       " 0.00345944\n",
       " 0.00211007\n",
       " 0.0011959 \n",
       " 0.0011959 \n",
       " 0.0084935 \n",
       " 0.0011959 \n",
       " 0.00149103\n",
       " 0.0011959 \n",
       " 0.0011959 "
      ]
     },
     "execution_count": 9,
     "metadata": {},
     "output_type": "execute_result"
    }
   ],
   "source": [
    "# Power method\n",
    "maxiter = 5000\n",
    "tol = 1e-10\n",
    "function power(U, z, maxiter, tol)\n",
    "    x = rand(n)\n",
    "    count = 0\n",
    "    temp = Array{Float64, 500}\n",
    "    \n",
    "    # avoid creating temporary arrays by creates this vector outside the for loop\n",
    "    vecones = ones(n)\n",
    "    for i = 1:maxiter\n",
    "        \n",
    "        # One iteration of the power method\n",
    "        temp = (U' * x + vecones .* (z' * x)) / norm(U' * x + vecones .* (z' * x))\n",
    "        \n",
    "        # Have the proposed vector sum to one. Helps converge faster.\n",
    "        temp = temp / sum(temp)\n",
    "        if norm(x - temp) < tol\n",
    "            break;\n",
    "        end\n",
    "        x = temp\n",
    "        count = count + 1\n",
    "    end\n",
    "    x\n",
    "end\n",
    "\n",
    "power(U, z, maxiter, tol)"
   ]
  },
  {
   "cell_type": "code",
   "execution_count": 12,
   "metadata": {
    "collapsed": false
   },
   "outputs": [
    {
     "name": "stderr",
     "output_type": "stream",
     "text": [
      "WARNING: Method definition Jacobi(Base."
     ]
    },
    {
     "data": {
      "text/plain": [
       "500-element Array{Float64,1}:\n",
       " 0.0127701 \n",
       " 0.00130393\n",
       " 0.00405405\n",
       " 0.00398338\n",
       " 0.00130393\n",
       " 0.00130393\n",
       " 0.00130393\n",
       " 0.00130393\n",
       " 0.00130393\n",
       " 0.00130393\n",
       " 0.00130393\n",
       " 0.00145083\n",
       " 0.00141309\n",
       " ⋮         \n",
       " 0.0011959 \n",
       " 0.00149245\n",
       " 0.0011959 \n",
       " 0.00345944\n",
       " 0.00211007\n",
       " 0.0011959 \n",
       " 0.0011959 \n",
       " 0.0084935 \n",
       " 0.0011959 \n",
       " 0.00149103\n",
       " 0.0011959 \n",
       " 0.0011959 "
      ]
     },
     "execution_count": 12,
     "metadata": {},
     "output_type": "execute_result"
    },
    {
     "name": "stderr",
     "output_type": "stream",
     "text": [
      "LinAlg.Diagonal, WoodburyMatrices.Woodbury, Array, Int64, Float64) in module Main at In[11]:9 overwritten at In[12]:9.\n"
     ]
    }
   ],
   "source": [
    "# Jacobi method\n",
    "Full = U' - I + ones(n) * z'\n",
    "Full[1, :] = ones(n)\n",
    "D = Diagonal(Full)\n",
    "J = U' - I\n",
    "J[1, :] = ones(n)\n",
    "W = Woodbury(sparse(J), vcat(0, ones(n - 1)), 1.0, z'); \n",
    "function Jacobi(D::Diagonal, W::Woodbury, b::Array, maxiter::Int64, tol::Float64)\n",
    "    x = rand(500)\n",
    "    count = 0\n",
    "    Db = D \\ b\n",
    "    for i = 1:maxiter\n",
    "        temp = - D \\ (W * x) + x + Db\n",
    "        temp = temp / sum(temp)\n",
    "        if norm(temp - x) < tol\n",
    "            break;\n",
    "        end\n",
    "        x = temp\n",
    "        count = count + 1\n",
    "    end\n",
    "    x\n",
    "end\n",
    "\n",
    "Jacobi(D, W, b, maxiter, tol)"
   ]
  },
  {
   "cell_type": "code",
   "execution_count": 13,
   "metadata": {
    "collapsed": false
   },
   "outputs": [
    {
     "data": {
      "text/plain": [
       "23-element Array{Any,1}:\n",
       " \"http://schema.org\"                                                                     \n",
       " \"http://www\"                                                                            \n",
       " \"http://www.ucla.edu\"                                                                   \n",
       " \"http://www.directory.ucla.edu\"                                                         \n",
       " \"http://www.universityofcalifornia.edu\"                                                 \n",
       " \"http://schema.org/CreativeWork\"                                                        \n",
       " \"http://schema.org/Text\"                                                                \n",
       " \"http://giveto.ucla.edu\"                                                                \n",
       " \"http://www.registrar.ucla.edu/calendar\"                                                \n",
       " \"http://www.uclalumni.net\"                                                              \n",
       " \"http://www.magazine.ucla.edu/depts/lifesigns/breaking-the-bad\"                         \n",
       " \"http://www.magazine.ucla.edu/depts/lifesigns/honoring-adolescence\"                     \n",
       " \"http://www.magazine.ucla.edu/depts/hailhills/uncle-welton-in-westwood\"                 \n",
       " \"http://www.magazine.ucla.edu/depts/atissue/local-thought-global-action\"                \n",
       " \"http://www.magazine.ucla.edu/depts/forward-thinker/homes-with-heart\"                   \n",
       " \"http://www.magazine.ucla.edu/depts/style/welcome-to-the-jungle\"                        \n",
       " \"http://www.magazine.ucla.edu/depts/style/the-dancing-scientist\"                        \n",
       " \"http://www.magazine.ucla.edu/features/patient-test-thyself\"                            \n",
       " \"http://www.magazine.ucla.edu/features/not-your-fathers-mba\"                            \n",
       " \"http://www.magazine.ucla.edu/features/splendor-in-the-trash\"                           \n",
       " \"http://www.magazine.ucla.edu/exclusives/brotherly-love\"                                \n",
       " \"http://www.magazine.ucla.edu/features/hope-is-real-the-ucla-depression-grand-challenge\"\n",
       " \"http://www.magazine.ucla.edu/features/heads-up\"                                        "
      ]
     },
     "execution_count": 13,
     "metadata": {},
     "output_type": "execute_result"
    }
   ],
   "source": [
    "# Question 5\n",
    "x = round(x, 8)\n",
    "sortedx = sort(x, rev = true)\n",
    "ties = findin(sortedx, sortedx[20])\n",
    "top20 = Int64.(sortrows([x collect(1:1:500)], rev = true)[1:ties[length(ties)], 2])\n",
    "\n",
    "# Top 20 websites\n",
    "websites[top20]"
   ]
  },
  {
   "cell_type": "code",
   "execution_count": 14,
   "metadata": {
    "collapsed": false
   },
   "outputs": [
    {
     "data": {
      "text/plain": [
       "BenchmarkTools.Trial: \n",
       "  memory estimate:  1.92 MiB\n",
       "  allocs estimate:  8\n",
       "  --------------\n",
       "  minimum time:     3.159 ms (0.00% GC)\n",
       "  median time:      3.372 ms (0.00% GC)\n",
       "  mean time:        4.386 ms (3.54% GC)\n",
       "  maximum time:     23.409 ms (0.00% GC)\n",
       "  --------------\n",
       "  samples:          1131\n",
       "  evals/sample:     1"
      ]
     },
     "execution_count": 14,
     "metadata": {},
     "output_type": "execute_result"
    }
   ],
   "source": [
    "# Question 6\n",
    "J = P' - I\n",
    "J[1, :] = ones(n)\n",
    "b = vcat(1, zeros(n - 1))\n",
    "@benchmark lufact(J) \\ b\n",
    "# LU decomposition is fast relatively fast for a 500 by 500 matrix"
   ]
  },
  {
   "cell_type": "code",
   "execution_count": 15,
   "metadata": {
    "collapsed": false
   },
   "outputs": [
    {
     "data": {
      "text/plain": [
       "BenchmarkTools.Trial: \n",
       "  memory estimate:  9.72 MiB\n",
       "  allocs estimate:  259\n",
       "  --------------\n",
       "  minimum time:     109.467 ms (1.50% GC)\n",
       "  median time:      117.152 ms (0.00% GC)\n",
       "  mean time:        126.244 ms (0.64% GC)\n",
       "  maximum time:     224.494 ms (0.00% GC)\n",
       "  --------------\n",
       "  samples:          40\n",
       "  evals/sample:     1"
      ]
     },
     "execution_count": 15,
     "metadata": {},
     "output_type": "execute_result"
    }
   ],
   "source": [
    "@benchmark Float64.(eigvecs(P')[:, 1])\n",
    "# A dense eigensolver is extremely slow and will not scale well to big data"
   ]
  },
  {
   "cell_type": "code",
   "execution_count": 16,
   "metadata": {
    "collapsed": false
   },
   "outputs": [
    {
     "data": {
      "text/plain": [
       "BenchmarkTools.Trial: \n",
       "  memory estimate:  1.49 MiB\n",
       "  allocs estimate:  781\n",
       "  --------------\n",
       "  minimum time:     2.273 ms (0.00% GC)\n",
       "  median time:      2.815 ms (0.00% GC)\n",
       "  mean time:        3.125 ms (5.26% GC)\n",
       "  maximum time:     6.772 ms (30.70% GC)\n",
       "  --------------\n",
       "  samples:          1586\n",
       "  evals/sample:     1"
      ]
     },
     "execution_count": 16,
     "metadata": {},
     "output_type": "execute_result"
    }
   ],
   "source": [
    "@benchmark power(U, z, maxiter, tol)\n",
    "# The power method is the fastest. It can scale to big data since each iteration costs O(n) flops"
   ]
  },
  {
   "cell_type": "code",
   "execution_count": 18,
   "metadata": {
    "collapsed": false
   },
   "outputs": [
    {
     "data": {
      "text/plain": [
       "BenchmarkTools.Trial: \n",
       "  memory estimate:  40.74 MiB\n",
       "  allocs estimate:  13611\n",
       "  --------------\n",
       "  minimum time:     29.072 ms (6.94% GC)\n",
       "  median time:      31.560 ms (13.01% GC)\n",
       "  mean time:        31.452 ms (12.32% GC)\n",
       "  maximum time:     37.119 ms (13.65% GC)\n",
       "  --------------\n",
       "  samples:          159\n",
       "  evals/sample:     1"
      ]
     },
     "execution_count": 18,
     "metadata": {},
     "output_type": "execute_result"
    }
   ],
   "source": [
    "@benchmark Jacobi(D, W, b, maxiter, tol)\n",
    "# Jacobi is slow because it requires many iteration to converge"
   ]
  },
  {
   "cell_type": "markdown",
   "metadata": {},
   "source": [
    "A teraflop supercomputer can compute  $10^{12}$ flops per second.\n",
    "\n",
    "1. The dense LU decomposition requires $\\approx \\frac{2}{3}n^3$ flops. The LU decomposition for 4.49 billion website requires $\\frac{2}{3}(4.49\\cdot 10^{9})^{3} \\approx 60 \\cdot 10^{27}$\n",
    " It would take a teraflop supercomputer $60\\cdot 10^{15}$ seconds, or about 2 billion years.\n",
    " \n",
    "2. Jacobi method has the potential to be much faster since it's in an iterative algorithm and can take advantage of a structured matrix (like sparsity). In practice, the Jacobi method requires a large number of iterations to converge. In the small set of 500 websites, my Jacobi method needed 1133 iterations, which is large.  \n",
    "\n",
    "3. A dense eigensolver requires even more flops then the dense LU decomposition. A dense eigensolver will be impractical for large dataset.\n",
    "\n",
    "4. The power method costs $\\mathcal{O}(n)$ flops per iteration. The benchmark also showed this was the fastest algorithm. This algorithm can work for Google pagerank problem.\n",
    "\n",
    "Both iterative methods enjoy warm start, meaning the iterative process can be resumed immediately from a past iteration."
   ]
  }
 ],
 "metadata": {
  "kernelspec": {
   "display_name": "Julia 0.5.1",
   "language": "julia",
   "name": "julia-0.5"
  },
  "language_info": {
   "file_extension": ".jl",
   "mimetype": "application/julia",
   "name": "julia",
   "version": "0.5.1"
  }
 },
 "nbformat": 4,
 "nbformat_minor": 2
}
