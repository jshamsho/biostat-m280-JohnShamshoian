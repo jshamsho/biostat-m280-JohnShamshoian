{
 "cells": [
  {
   "cell_type": "code",
   "execution_count": null,
   "metadata": {
    "collapsed": true
   },
   "outputs": [],
   "source": []
  },
  {
   "cell_type": "code",
   "execution_count": 2,
   "metadata": {
    "collapsed": false
   },
   "outputs": [
    {
     "name": "stderr",
     "output_type": "stream",
     "text": [
      "WARNING: Method definition describe(AbstractArray) in module StatsBase at C:\\Users\\John\\.julia\\v0.5\\StatsBase\\src\\scalarstats.jl:573 overwritten in module DataFrames at C:\\Users\\John\\.julia\\v0.5\\DataFrames\\src\\abstractdataframe\\abstractdataframe.jl:407.\n"
     ]
    }
   ],
   "source": [
    "using RCall"
   ]
  },
  {
   "cell_type": "code",
   "execution_count": null,
   "metadata": {
    "collapsed": false
   },
   "outputs": [],
   "source": [
    "P = Array{Float64}(100, 100)"
   ]
  },
  {
   "cell_type": "code",
   "execution_count": 37,
   "metadata": {
    "collapsed": false
   },
   "outputs": [],
   "source": [
    "A = readcsv(\"E:/Classes/BiostatisticsM280/Submissions/biostat-m280-JohnShamshoian/HW3/A.txt\");\n",
    "# A 500 x 500 connectivity matrix"
   ]
  },
  {
   "cell_type": "code",
   "execution_count": 34,
   "metadata": {
    "collapsed": false
   },
   "outputs": [
    {
     "data": {
      "text/plain": [
       "3-element Array{Float64,1}:\n",
       "  1.13335 \n",
       "  0.366025\n",
       " -0.401302"
      ]
     },
     "execution_count": 34,
     "metadata": {},
     "output_type": "execute_result"
    }
   ],
   "source": [
    "A = [1 1; 1 0; 1 -1]\n",
    "b = [1; 0; 0]\n",
    "alu = lufact(A, Val{true})\n",
    "A * (alu[:U] \\ (alu[:L] \\ b))\n",
    "A * [0.366025; 0.767327]"
   ]
  },
  {
   "cell_type": "code",
   "execution_count": 8,
   "metadata": {
    "collapsed": false
   },
   "outputs": [
    {
     "data": {
      "image/png": "[encoded data removed]"
     },
     "metadata": {},
     "output_type": "display_data"
    },
    {
     "data": {
      "text/plain": [
       "RCall.RObject{RCall.NilSxp}\n",
       "NULL\n"
      ]
     },
     "execution_count": 8,
     "metadata": {},
     "output_type": "execute_result"
    }
   ],
   "source": [
    "@rput A\n",
    "\n",
    "R\"\"\"\n",
    "library(SparseM)\n",
    "image(as.matrix.csr(A))\n",
    "\"\"\""
   ]
  },
  {
   "cell_type": "code",
   "execution_count": null,
   "metadata": {
    "collapsed": false
   },
   "outputs": [],
   "source": [
    "# Number of edges\n",
    "sum(A)"
   ]
  },
  {
   "cell_type": "code",
   "execution_count": null,
   "metadata": {
    "collapsed": false
   },
   "outputs": [],
   "source": [
    "# Number of dangling nodes\n",
    "500 * 500 - sum(A)"
   ]
  },
  {
   "cell_type": "code",
   "execution_count": null,
   "metadata": {
    "collapsed": false
   },
   "outputs": [],
   "source": [
    "# page with max in-degree\n",
    "indmax(sum(A, 1))"
   ]
  },
  {
   "cell_type": "code",
   "execution_count": null,
   "metadata": {
    "collapsed": false
   },
   "outputs": [],
   "source": [
    "# page with max out-degree\n",
    "indmax(sum(A, 2))"
   ]
  },
  {
   "cell_type": "code",
   "execution_count": null,
   "metadata": {
    "collapsed": false
   },
   "outputs": [],
   "source": [
    "imagesc(A .< 0.5)"
   ]
  },
  {
   "cell_type": "code",
   "execution_count": null,
   "metadata": {
    "collapsed": false
   },
   "outputs": [],
   "source": [
    "using PyPlot"
   ]
  },
  {
   "cell_type": "code",
   "execution_count": null,
   "metadata": {
    "collapsed": false
   },
   "outputs": [],
   "source": [
    "using Gadfly"
   ]
  },
  {
   "cell_type": "code",
   "execution_count": null,
   "metadata": {
    "collapsed": false
   },
   "outputs": [],
   "source": [
    "size(A)"
   ]
  },
  {
   "cell_type": "code",
   "execution_count": 134,
   "metadata": {
    "collapsed": false
   },
   "outputs": [
    {
     "name": "stderr",
     "output_type": "stream",
     "text": [
      "WARNING: Method definition transition(Any, Any) in module Main at In[129]:2"
     ]
    },
    {
     "data": {
      "text/plain": [
       "transition (generic function with 1 method)"
      ]
     },
     "execution_count": 134,
     "metadata": {},
     "output_type": "execute_result"
    },
    {
     "name": "stderr",
     "output_type": "stream",
     "text": [
      " overwritten at In[134]:2.\n"
     ]
    }
   ],
   "source": [
    "function transition(A, p)\n",
    "    n = size(A, 1)\n",
    "    P = Matrix{Float64}(size(A))\n",
    "    r = sum(A, 2)\n",
    "    \n",
    "    for j = 1:n\n",
    "        for i = 1:n\n",
    "            P[i, j] = (p * A[i, j]) *(r[i] > 0) #+ (1.0 - p) / n) * (r[i] > 0) + 1.0 / n * (r[i] == 0)\n",
    "        end\n",
    "    end\n",
    "    P\n",
    "end"
   ]
  },
  {
   "cell_type": "code",
   "execution_count": 38,
   "metadata": {
    "collapsed": false
   },
   "outputs": [
    {
     "data": {
      "text/plain": [
       "500×500 Array{Float64,2}:\n",
       " 0.0003     0.0306571  0.0306571  …  0.0003     0.0003     0.0003   \n",
       " 0.0003     0.0003     0.0003        0.0003     0.0003     0.0003   \n",
       " 0.002      0.002      0.002         0.002      0.002      0.002    \n",
       " 0.002      0.002      0.002         0.002      0.002      0.002    \n",
       " 0.0003     0.0003     0.0003        0.0003     0.0003     0.0003   \n",
       " 0.0003     0.0003     0.0003     …  0.0003     0.0003     0.0003   \n",
       " 0.0389364  0.0003     0.0003        0.0003     0.0003     0.0003   \n",
       " 0.0124429  0.0003     0.0003        0.0003     0.0003     0.0003   \n",
       " 0.0389364  0.0003     0.0003        0.0003     0.0003     0.0003   \n",
       " 0.0389364  0.0003     0.0003        0.0003     0.0003     0.0003   \n",
       " 0.0191889  0.0003     0.0003     …  0.0003     0.0003     0.0003   \n",
       " 0.0389364  0.0003     0.0003        0.0003     0.0003     0.0003   \n",
       " 0.0372565  0.0003     0.0003        0.0003     0.0003     0.0003   \n",
       " ⋮                                ⋱                                 \n",
       " 0.0003     0.0003     0.0003        0.0003     0.0003     0.0003   \n",
       " 0.0003     0.0003     0.0003        0.0277194  0.0277194  0.0277194\n",
       " 0.0003     0.0003     0.0003     …  0.0003     0.0003     0.0003   \n",
       " 0.0003     0.0003     0.0003        0.0003     0.0003     0.0003   \n",
       " 0.0003     0.0003     0.0003        0.0003     0.0003     0.0003   \n",
       " 0.0003     0.0003     0.0003        0.0003     0.0003     0.0003   \n",
       " 0.0003     0.0003     0.0003        0.0003     0.0003     0.0003   \n",
       " 0.0003     0.0003     0.0003     …  0.0286333  0.0286333  0.0286333\n",
       " 0.0003     0.0003     0.0003        0.2128     0.0003     0.0003   \n",
       " 0.0003     0.0003     0.0003        0.0286333  0.0286333  0.0286333\n",
       " 0.0003     0.0003     0.0003        0.0003     0.2128     0.0003   \n",
       " 0.002      0.002      0.002         0.002      0.002      0.002    "
      ]
     },
     "execution_count": 38,
     "metadata": {},
     "output_type": "execute_result"
    }
   ],
   "source": [
    "myP = transition(A, .85)"
   ]
  },
  {
   "cell_type": "code",
   "execution_count": 228,
   "metadata": {
    "collapsed": false
   },
   "outputs": [
    {
     "name": "stderr",
     "output_type": "stream",
     "text": [
      "WARNING: Method definition transition2(Any, Any) in module Main"
     ]
    },
    {
     "data": {
      "text/plain": [
       "transition2 (generic function with 1 method)"
      ]
     },
     "execution_count": 228,
     "metadata": {},
     "output_type": "execute_result"
    },
    {
     "name": "stderr",
     "output_type": "stream",
     "text": [
      " at In[220]:2 overwritten at In[228]:2.\n"
     ]
    }
   ],
   "source": [
    "function transition2(A, p)\n",
    "    n, m = size(A)\n",
    "    u, v, w = Array(Float64, 500, Array(Float64, 500), Array(Float64, 500)\n",
    "\n",
    "    for i = 1:500\n",
    "        if sum(A, 2)[i] == 0.0\n",
    "            u[i] = 0.0\n",
    "            v[i] = 0.0\n",
    "            w[i] = 1.0\n",
    "        else\n",
    "            u[i] = 1.0 / sum(A, 2)[i]\n",
    "            v[i] = 1.0\n",
    "            w[i] = 0.0\n",
    "        end\n",
    "    end\n",
    "    return p * Diagonal(u) * A  + Diagonal(v) * ones(n) * ones(n)' * (1 - p) / n + Diagonal(w) * ones(n) * ones(n)' / n\n",
    "end"
   ]
  },
  {
   "cell_type": "code",
   "execution_count": 243,
   "metadata": {
    "collapsed": false
   },
   "outputs": [
    {
     "name": "stderr",
     "output_type": "stream",
     "text": [
      "WARNING: Method definition transition(Any, Any) in module Main at In[238]:2"
     ]
    },
    {
     "data": {
      "text/plain": [
       "transition (generic function with 1 method)"
      ]
     },
     "execution_count": 243,
     "metadata": {},
     "output_type": "execute_result"
    },
    {
     "name": "stderr",
     "output_type": "stream",
     "text": [
      " overwritten at In[243]:2.\n"
     ]
    }
   ],
   "source": [
    "function transition(A, p)\n",
    "    n = size(A, 1)\n",
    "    P = Matrix{Float64}(n, n)\n",
    "    r = sum(A, 2)\n",
    "    \n",
    "    for j = 1:n\n",
    "        for i = 1:n\n",
    "            P[i, j] = (p * A[i, j] / r[i] + (1.0 - p) / n) * (r[i] > 0) + 1.0 / n * (r[i] == 0)\n",
    "        end\n",
    "    end\n",
    "    P\n",
    "end"
   ]
  },
  {
   "cell_type": "code",
   "execution_count": 267,
   "metadata": {
    "collapsed": false
   },
   "outputs": [
    {
     "data": {
      "text/plain": [
       "500×500 Array{Float64,2}:\n",
       " -0.9992      0.0008   0.002   0.002  …   0.0008   0.0008   0.0008   0.002\n",
       "  0.0222286  -0.9992   0.002   0.002      0.0008   0.0008   0.0008   0.002\n",
       "  0.0222286   0.0008  -0.998   0.002      0.0008   0.0008   0.0008   0.002\n",
       "  0.0222286   0.0008   0.002  -0.998      0.0008   0.0008   0.0008   0.002\n",
       "  0.0222286   0.0008   0.002   0.002      0.0008   0.0008   0.0008   0.002\n",
       "  0.0222286   0.0008   0.002   0.002  …   0.0008   0.0008   0.0008   0.002\n",
       "  0.0222286   0.0008   0.002   0.002      0.0008   0.0008   0.0008   0.002\n",
       "  0.0222286   0.0008   0.002   0.002      0.0008   0.0008   0.0008   0.002\n",
       "  0.0222286   0.0008   0.002   0.002      0.0008   0.0008   0.0008   0.002\n",
       "  0.0222286   0.0008   0.002   0.002      0.0008   0.0008   0.0008   0.002\n",
       "  0.0222286   0.0008   0.002   0.002  …   0.0008   0.0008   0.0008   0.002\n",
       "  0.0222286   0.0008   0.002   0.002      0.0008   0.0008   0.0008   0.002\n",
       "  0.0222286   0.0008   0.002   0.002      0.0008   0.0008   0.0008   0.002\n",
       "  ⋮                                   ⋱                                   \n",
       "  0.0008      0.0008   0.002   0.002      0.0008   0.0208   0.0008   0.002\n",
       "  0.0008      0.0008   0.002   0.002      0.0008   0.0208   0.0008   0.002\n",
       "  0.0008      0.0008   0.002   0.002  …   0.0008   0.0208   0.0008   0.002\n",
       "  0.0008      0.0008   0.002   0.002      0.0008   0.0208   0.0008   0.002\n",
       "  0.0008      0.0008   0.002   0.002      0.0008   0.0208   0.0008   0.002\n",
       "  0.0008      0.0008   0.002   0.002      0.0008   0.0208   0.0008   0.002\n",
       "  0.0008      0.0008   0.002   0.002      0.0008   0.0208   0.0008   0.002\n",
       "  0.0008      0.0008   0.002   0.002  …   0.1508   0.0208   0.1508   0.002\n",
       "  0.0008      0.0008   0.002   0.002     -0.8492   0.0208   0.0008   0.002\n",
       "  0.0008      0.0008   0.002   0.002      0.1508  -0.9792   0.0008   0.002\n",
       "  0.0008      0.0008   0.002   0.002      0.0008   0.0208  -0.8492   0.002\n",
       "  0.0008      0.0008   0.002   0.002      0.0008   0.0208   0.0008  -0.998"
      ]
     },
     "execution_count": 267,
     "metadata": {},
     "output_type": "execute_result"
    }
   ],
   "source": [
    "transition2(A, p)' - I"
   ]
  },
  {
   "cell_type": "code",
   "execution_count": 245,
   "metadata": {
    "collapsed": false
   },
   "outputs": [
    {
     "data": {
      "text/html": [
       "0.022228571428571427"
      ],
      "text/plain": [
       "0.022228571428571427"
      ]
     },
     "execution_count": 245,
     "metadata": {},
     "output_type": "execute_result"
    }
   ],
   "source": [
    ".6/28 + .4/500"
   ]
  },
  {
   "cell_type": "code",
   "execution_count": 271,
   "metadata": {
    "collapsed": false
   },
   "outputs": [
    {
     "data": {
      "text/plain": [
       "2-element Array{Float64,1}:\n",
       " 0.666667\n",
       " 0.333333"
      ]
     },
     "execution_count": 271,
     "metadata": {},
     "output_type": "execute_result"
    }
   ],
   "source": [
    "A = [1 1; 0 0; 1 -2]\n",
    "b = [1; 0; 0]\n",
    "qrfact(A,Val{true}) \\ b"
   ]
  },
  {
   "cell_type": "code",
   "execution_count": 12,
   "metadata": {
    "collapsed": false
   },
   "outputs": [
    {
     "data": {
      "text/plain": [
       "500×500 Array{Float64,2}:\n",
       " 0.0  1.0  1.0  1.0  1.0  1.0  1.0  1.0  …  0.0  0.0  0.0  0.0  0.0  0.0  0.0\n",
       " 0.0  0.0  0.0  0.0  0.0  0.0  0.0  0.0     0.0  0.0  0.0  0.0  0.0  0.0  0.0\n",
       " 0.0  0.0  0.0  0.0  0.0  0.0  0.0  0.0     0.0  0.0  0.0  0.0  0.0  0.0  0.0\n",
       " 0.0  0.0  0.0  0.0  0.0  0.0  0.0  0.0     0.0  0.0  0.0  0.0  0.0  0.0  0.0\n",
       " 0.0  0.0  0.0  0.0  0.0  0.0  0.0  0.0     0.0  0.0  0.0  0.0  0.0  0.0  0.0\n",
       " 0.0  0.0  0.0  0.0  0.0  0.0  0.0  0.0  …  0.0  0.0  0.0  0.0  0.0  0.0  0.0\n",
       " 1.0  0.0  0.0  0.0  0.0  0.0  0.0  0.0     0.0  0.0  0.0  0.0  0.0  0.0  0.0\n",
       " 1.0  0.0  0.0  0.0  0.0  0.0  0.0  0.0     0.0  0.0  0.0  0.0  0.0  0.0  0.0\n",
       " 1.0  0.0  0.0  0.0  0.0  0.0  0.0  0.0     0.0  0.0  0.0  0.0  0.0  0.0  0.0\n",
       " 1.0  0.0  0.0  0.0  0.0  0.0  0.0  0.0     0.0  0.0  0.0  0.0  0.0  0.0  0.0\n",
       " 1.0  0.0  0.0  0.0  0.0  0.0  0.0  0.0  …  0.0  0.0  0.0  0.0  0.0  0.0  0.0\n",
       " 1.0  0.0  0.0  0.0  0.0  0.0  0.0  0.0     0.0  0.0  0.0  0.0  0.0  0.0  0.0\n",
       " 1.0  0.0  0.0  0.0  0.0  0.0  0.0  0.0     0.0  0.0  0.0  0.0  0.0  0.0  0.0\n",
       " ⋮                        ⋮              ⋱            ⋮                      \n",
       " 0.0  0.0  0.0  0.0  0.0  0.0  0.0  0.0     0.0  0.0  1.0  0.0  0.0  0.0  0.0\n",
       " 0.0  0.0  0.0  0.0  0.0  0.0  0.0  0.0     1.0  1.0  1.0  1.0  1.0  1.0  1.0\n",
       " 0.0  0.0  0.0  0.0  0.0  0.0  0.0  0.0  …  0.0  0.0  1.0  0.0  0.0  0.0  0.0\n",
       " 0.0  0.0  0.0  0.0  0.0  0.0  0.0  0.0     0.0  0.0  1.0  0.0  0.0  0.0  0.0\n",
       " 0.0  0.0  0.0  0.0  0.0  0.0  0.0  0.0     0.0  0.0  1.0  0.0  0.0  0.0  0.0\n",
       " 0.0  0.0  0.0  0.0  0.0  0.0  0.0  0.0     1.0  0.0  1.0  0.0  0.0  0.0  0.0\n",
       " 0.0  0.0  0.0  0.0  0.0  0.0  0.0  0.0     0.0  1.0  1.0  0.0  0.0  0.0  0.0\n",
       " 0.0  0.0  0.0  0.0  0.0  0.0  0.0  0.0  …  1.0  1.0  1.0  1.0  1.0  1.0  1.0\n",
       " 0.0  0.0  0.0  0.0  0.0  0.0  0.0  0.0     0.0  0.0  1.0  1.0  1.0  0.0  0.0\n",
       " 0.0  0.0  0.0  0.0  0.0  0.0  0.0  0.0     1.0  1.0  1.0  1.0  1.0  1.0  1.0\n",
       " 0.0  0.0  0.0  0.0  0.0  0.0  0.0  0.0     0.0  0.0  1.0  0.0  0.0  1.0  0.0\n",
       " 0.0  0.0  0.0  0.0  0.0  0.0  0.0  0.0     0.0  0.0  0.0  0.0  0.0  0.0  0.0"
      ]
     },
     "execution_count": 12,
     "metadata": {},
     "output_type": "execute_result"
    }
   ],
   "source": [
    "A"
   ]
  },
  {
   "cell_type": "code",
   "execution_count": null,
   "metadata": {
    "collapsed": true
   },
   "outputs": [],
   "source": []
  }
 ],
 "metadata": {
  "kernelspec": {
   "display_name": "Julia 0.5.1",
   "language": "julia",
   "name": "julia-0.5"
  },
  "language_info": {
   "file_extension": ".jl",
   "mimetype": "application/julia",
   "name": "julia",
   "version": "0.5.1"
  }
 },
 "nbformat": 4,
 "nbformat_minor": 2
}
