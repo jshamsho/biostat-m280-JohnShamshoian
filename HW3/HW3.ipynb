{
 "cells": [
  {
   "cell_type": "markdown",
   "metadata": {
    "collapsed": true
   },
   "source": [
    "# Problem 1\n",
    "\n",
    "First I will define some notation before I write the transition matrix in matrix/vector form.\n",
    "\n",
    "Let $u_i = \n",
    "\\begin{cases}\n",
    "    \\frac{1}{r_i},& \\text{if } r_i \\neq 0\\\\\n",
    "    0,              & \\text{otherwise}\n",
    "\\end{cases}\n",
    "$\n",
    "\n",
    "Let $v_i = \n",
    "\\begin{cases}\n",
    "    1,& \\text{if } r_i \\neq 0\\\\\n",
    "    0,              & \\text{otherwise}\n",
    "\\end{cases}\n",
    "$\n",
    "\n",
    "Let $w_i = \n",
    "\\begin{cases}\n",
    "    0,& \\text{if } r_i \\neq 0\\\\\n",
    "    1,              & \\text{otherwise}\n",
    "\\end{cases}\n",
    "$\n",
    "\n",
    "In scalar notation, \n",
    "$$\n",
    "\\begin{align}\n",
    "p_{ij} &= p * A_{ij} * u_i + \\frac{1 - p}{n} * v_i + \\frac{1}{n} * w_i\\\\\n",
    "& = p * A_{ij} * u_i + \\frac{1}{n} - \\frac{p}{n}*v_i\\\\\n",
    "& = p * A_{ij} * u_i + n^{-1}(1 - p)v_i\n",
    "\\end{align}\n",
    "$$\n",
    "\n",
    "Let $\\mathbf{u}, \\mathbf{v}, \\mathbf{w}$ be the corresponding column vectors. Let $1_n$ denote a $n\\times 1$ column vector. Let $I_n$ be the $n\\times n$ identity matrix.\n",
    "\n",
    "$$P = p\\cdot Diagonal(\\mathbf{u}) \\cdot A  + n^{-1}[I_n - Diagonal(\\mathbf{v})\\cdot p]\\cdot 1_n 1_n'$$"
   ]
  },
  {
   "cell_type": "markdown",
   "metadata": {},
   "source": [
    "# Problem 2\n",
    "\n",
    "If $\\mathbf{P}^{T}\\mathbf{x} = \\mathbf{x}$, then $(\\mathbf{P}^{T} - \\mathbf{I})\\mathbf{x} = \\mathbf{0}$\n",
    "\n",
    "If we want to constrain $\\mathbf{x}$ to have $\\sum_{i=1}^{n}x_i = 1$, we can solve the augmented equation $\\begin{pmatrix}1_n'\\\\\\mathbf{P}^{T}-\\mathbf{I}\\end{pmatrix}\\mathbf{x} = \\begin{pmatrix}1\\\\0\\\\\\vdots\\\\0\\end{pmatrix}$"
   ]
  },
  {
   "cell_type": "code",
   "execution_count": 40,
   "metadata": {
    "collapsed": false
   },
   "outputs": [
    {
     "name": "stdout",
     "output_type": "stream",
     "text": [
      "Number of pages is 500\n",
      "Number of edges is 11158\n",
      "Number of dangling pages is 96\n",
      "The page with the max in-degree is page 1\n",
      "The page with the max out-degree is page 36"
     ]
    },
    {
     "name": "stderr",
     "output_type": "stream",
     "text": [
      "WARNING: Method definition describe(AbstractArray) in module StatsBase at C:\\Users\\John\\.julia\\v0.5\\StatsBase\\src\\scalarstats.jl:573 overwritten in module DataFrames at C:\\Users\\John\\.julia\\v0.5\\DataFrames\\src\\abstractdataframe\\abstractdataframe.jl:407.\n"
     ]
    },
    {
     "data": {
      "image/png": "[encoded data removed]"
     },
     "metadata": {},
     "output_type": "display_data"
    },
    {
     "name": "stderr",
     "output_type": "stream",
     "text": [
      "\u001b[1m\u001b[31mWARNING: RCall.jl: Warning: package 'SparseM' was built under R version 3.3.3\n",
      "\n",
      "Attaching package: 'SparseM'\n",
      "\n",
      "The following object is masked from 'package:base':\n",
      "\n",
      "    backsolve\n",
      "\u001b[0m\n"
     ]
    },
    {
     "data": {
      "text/plain": [
       "RCall.RObject{RCall.NilSxp}\n",
       "NULL\n"
      ]
     },
     "execution_count": 40,
     "metadata": {},
     "output_type": "execute_result"
    }
   ],
   "source": [
    "# Problem 3\n",
    "\n",
    "using RCall\n",
    "\n",
    "# Number of pages\n",
    "print(\"Number of pages is \", size(A)[1])\n",
    "\n",
    "# Number of edges\n",
    "print(\"\\nNumber of edges is \", Int64(sum(A)))\n",
    "\n",
    "# Number of dangling pages\n",
    "print(\"\\nNumber of dangling pages is \", size(A)[1] - countnz(sum(A, 2)))\n",
    "\n",
    "# Page with max in-degree\n",
    "print(\"\\nThe page with the max in-degree is page \", indmax(sum(A, 1)))\n",
    "\n",
    "# Page with max out-degree\n",
    "print(\"\\nThe page with the max out-degree is page \", indmax(sum(A, 2)))\n",
    "\n",
    "# Visualize the sparsity pattern of A. I decided to use R because other Julia packages did not work\n",
    "# well on my computer. \n",
    "@rput A\n",
    "\n",
    "R\"\"\"\n",
    "library(SparseM)\n",
    "image(as.matrix.csr(A))\n",
    "\"\"\""
   ]
  },
  {
   "cell_type": "code",
   "execution_count": 157,
   "metadata": {
    "collapsed": false
   },
   "outputs": [
    {
     "name": "stderr",
     "output_type": "stream",
     "text": [
      "WARNING: Method definition transition(Any, Any) in module Main at In[69]:2 overwritten at In[157]:4.\n"
     ]
    }
   ],
   "source": [
    "# Problem 4\n",
    "\n",
    "function transition(A, p)\n",
    "    n, m = size(A)\n",
    "    u, v = Array(Float64, 500), Array(Float64, 500)\n",
    "\n",
    "    for i = 1:500\n",
    "        if sum(A, 2)[i] == 0.0\n",
    "            u[i] = 0.0\n",
    "            v[i] = 0.0\n",
    "        else\n",
    "            u[i] = 1.0 / sum(A, 2)[i]\n",
    "            v[i] = 1.0\n",
    "        end\n",
    "    end\n",
    "    return p * Diagonal(u) * A + 1 / n * (I - Diagonal(v) * p) * ones(n) * ones(n)'\n",
    "end\n",
    "\n",
    "# Read in nxn connectivity matrix\n",
    "A = readcsv(\"E:/Classes/BiostatisticsM280/Submissions/biostat-m280-JohnShamshoian/HW3/A.txt\");\n",
    "p = .85\n",
    "\n",
    "# Create transition matrix\n",
    "P = transition(A, p);\n",
    "\n",
    "# Augment the transition matrix to have the top left eigenvector sum to one\n",
    "augP = vcat(ones(size(A)[1])', P' - I)"
   ]
  },
  {
   "cell_type": "code",
   "execution_count": 158,
   "metadata": {
    "collapsed": false
   },
   "outputs": [],
   "source": [
    "# Augment the transition matrix to have the top left eigenvector sum to one\n",
    "augP = vcat(ones(size(A)[1])', P' - I)\n",
    "\n",
    "# Dense linear solver\n",
    "qrfact(augP, Val{true}) \\ vcat(1, zeros(500))\n",
    "\n",
    "# Dense eigensolver\n",
    "v = Float64.(eigvecs(P')[:, 1])\n",
    "v/sum(v)\n",
    "\n",
    "# Power method\n",
    "for i = 1:100\n",
    "    x = (P' * x) / norm(P' * x)\n",
    "end\n",
    "x/sum(x);"
   ]
  },
  {
   "cell_type": "code",
   "execution_count": 69,
   "metadata": {
    "collapsed": false
   },
   "outputs": [
    {
     "name": "stderr",
     "output_type": "stream",
     "text": [
      "WARNING: Method definition transition(Any, Any) in module Main at In[57]:4"
     ]
    },
    {
     "data": {
      "text/plain": [
       "transition (generic function with 1 method)"
      ]
     },
     "execution_count": 69,
     "metadata": {},
     "output_type": "execute_result"
    },
    {
     "name": "stderr",
     "output_type": "stream",
     "text": [
      " overwritten at In[69]:2.\n"
     ]
    }
   ],
   "source": [
    "function transition(A, p)\n",
    "    n, m = size(A)\n",
    "    u, v = Array(Float64, 500), Array(Float64, 500)\n",
    "\n",
    "    for i = 1:500\n",
    "        if sum(A, 2)[i] == 0.0\n",
    "            u[i] = 0.0\n",
    "            v[i] = 0.0\n",
    "        else\n",
    "            u[i] = 1.0 / sum(A, 2)[i]\n",
    "            v[i] = 1.0\n",
    "        end\n",
    "    end\n",
    "    return p * Diagonal(u) * A + 1 / n * (I - Diagonal(v) * p) * ones(n) * ones(n)'\n",
    "end"
   ]
  }
 ],
 "metadata": {
  "kernelspec": {
   "display_name": "Julia 0.5.1",
   "language": "julia",
   "name": "julia-0.5"
  },
  "language_info": {
   "file_extension": ".jl",
   "mimetype": "application/julia",
   "name": "julia",
   "version": "0.5.1"
  }
 },
 "nbformat": 4,
 "nbformat_minor": 2
}
