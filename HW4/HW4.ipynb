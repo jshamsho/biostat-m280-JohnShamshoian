{
 "cells": [
  {
   "cell_type": "markdown",
   "metadata": {},
   "source": [
    "John Shamshoian\n",
    "\n",
    "Homework 4\n",
    "\n",
    "## Q1\n",
    "\n",
    "For a multivariate count vector $\\mathbf{x}=(x_1,\\ldots,x_d)$ with batch size $|\\mathbf{x}|=\\sum_{j=1}^d x_j$, show that the probability mass function for Dirichlet-multinomial distribution is\n",
    "$$\n",
    "    f(\\mathbf{x} \\mid \\alpha) \n",
    "\t= \\int_{\\Delta_d} \\binom{|\\mathbf{x}|}{\\mathbf{x}} \\prod_{j=1}^d p_j^{x_j} \\pi(\\mathbf{p}) \\, d \\mathbf{p}  \n",
    "    = \\binom{|\\mathbf{x}|}{\\mathbf{x}} \\frac{\\prod_{j=1}^d \\Gamma(\\alpha_j+x_j)}{\\prod_{j=1}^d \\Gamma(\\alpha_j)} \\frac{\\Gamma(|\\alpha|)}{\\Gamma(|\\alpha|+|\\mathbf{x}|)}\n",
    "$$\n",
    "where $\\Delta_d$ is the unit simplex in $d$ dimensions and $|\\alpha| = \\sum_{j=1}^d \\alpha_j$.\n"
   ]
  },
  {
   "cell_type": "markdown",
   "metadata": {},
   "source": [
    "If $\\mathbf{p} \\sim \\text{Dir}(\\mathbf{\\alpha})$, $\\mathbf{p}$ is a probability density. Therefore \n",
    "\n",
    "$$\n",
    "\\int_{\\Delta_d}\\pi(\\mathbf{p})\\,d\\mathbf{p} =  \\int_{\\Delta_d}\\frac{\\Gamma(|\\alpha|)}{\\prod_{j=1}^d \\Gamma(\\alpha_j)}\\prod_{j=1}^d p_j^{\\alpha_j-1} \\, d\\mathbf{p} = 1\n",
    "$$\n",
    "\n",
    "Rearranging, I get $$\\int_{\\Delta_d}\\prod_{j=1}^d p_j^{\\alpha_j-1}\\,d\\mathbf{p} = \\frac{\\prod_{j=1}^d \\Gamma(\\alpha_j)}{\\Gamma(|\\alpha|)}$$\n",
    "\n",
    "If $\\mathbf{x} \\sim \\text{Multinomial}(\\mathbf{p})$ and $\\mathbf{p} \\sim \\text{Dir}(\\mathbf{\\alpha})$, then $p(\\mathbf{x}\\,|\\,\\mathbf{p},\\mathbf{\\alpha}) = p(\\mathbf{x}\\,|\\,\\mathbf{p})$. Using this fact, I have\n",
    "\n",
    "$$\n",
    "\\begin{align}\n",
    "p(\\mathbf{x}, \\mathbf{p}\\,|\\,\\mathbf{\\alpha})&=\\frac{p(\\mathbf{x},\\mathbf{p},\\mathbf{\\alpha})}{p(\\mathbf{\\alpha})}\\cdot\\frac{p(\\mathbf{p},\\mathbf{\\alpha})}{p(\\mathbf{p},\\mathbf{\\alpha})}\\\\\\\\\n",
    "&= p(\\mathbf{x}\\,|\\,\\mathbf{p},\\mathbf{\\alpha})\\cdot p(\\mathbf{p}\\,|\\,\\mathbf{\\alpha})\\\\\\\\\n",
    "&= p(\\mathbf{x}\\,|\\,\\mathbf{p})\\cdot p(\\mathbf{p}\\,|\\,\\mathbf{\\alpha})\\\\\\\\\n",
    "&= \\binom{|\\mathbf{x}|}{\\mathbf{x}} \\prod_{j=1}^d p_j^{x_j} \\frac{\\Gamma(|\\alpha|)}{\\prod_{j=1}^d \\Gamma(\\alpha_j)} \\prod_{j=1}^d p_j^{\\alpha_j-1}\\\\\\\\\n",
    "&= \\binom{|\\mathbf{x}|}{\\mathbf{x}} \\frac{\\Gamma(|\\alpha|)}{\\prod_{j=1}^d \\Gamma(\\alpha_j)} \\prod_{j=1}^d p_j^{x_j + \\alpha_j-1}\n",
    "\\end{align}\n",
    "$$\n",
    "\n",
    "This implies \n",
    "$$\n",
    "\\begin{align}\n",
    "p(\\mathbf{x}\\,|\\,\\mathbf{\\alpha}) &= \\int_{\\Delta_d}p(\\mathbf{x},\\mathbf{p}\\,|\\,\\mathbf{\\alpha})\\,d\\mathbf{p}\\\\\\\\\n",
    "&= \\binom{|\\mathbf{x}|}{\\mathbf{x}} \\frac{\\Gamma(|\\alpha|)}{\\prod_{j=1}^d \\Gamma(\\alpha_j)}\\int_{\\Delta_d}\\prod_{j=1}^d p_j^{x_j + \\alpha_j-1}\\,d\\mathbf{p}\\\\\\\\\n",
    "&= \\binom{|\\mathbf{x}|}{\\mathbf{x}} \\frac{\\Gamma(|\\alpha|)}{\\prod_{j=1}^d \\Gamma(\\alpha_j)}\\frac{\\prod_{j=1}^d \\Gamma(x_j+\\alpha_j)}{\\Gamma(|\\mathbf{x}|+|\\alpha|)}\n",
    "\\end{align}\n",
    "$$"
   ]
  },
  {
   "cell_type": "markdown",
   "metadata": {},
   "source": [
    "## Q2\n",
    "\n",
    "The log-likelihood is concave. "
   ]
  },
  {
   "cell_type": "code",
   "execution_count": 1,
   "metadata": {
    "collapsed": true
   },
   "outputs": [],
   "source": []
  },
  {
   "cell_type": "code",
   "execution_count": 100,
   "metadata": {
    "collapsed": false
   },
   "outputs": [
    {
     "name": "stderr",
     "output_type": "stream",
     "text": [
      "WARNING: Method definition mymultinomial(Array"
     ]
    },
    {
     "data": {
      "text/html": [
       "977.8890626874888"
      ],
      "text/plain": [
       "977.8890626874888"
      ]
     },
     "execution_count": 100,
     "metadata": {},
     "output_type": "execute_result"
    },
    {
     "name": "stderr",
     "output_type": "stream",
     "text": [
      "{T<:Any, 1}) in module Main at In[99]:2 overwritten at In[100]:2.\n"
     ]
    }
   ],
   "source": [
    "function mymultinomial(x::Vector)\n",
    "    s = 0\n",
    "    result = 0\n",
    "    @inbounds for i in 1:length(x)\n",
    "        s += x[i]\n",
    "        result += sum(log(1:s)) - sum(log(1:x[i])) - sum(log(1:(s - x[i])))\n",
    "    end\n",
    "    result\n",
    "end\n",
    "\n",
    "mymultinomial(training[1, :])"
   ]
  },
  {
   "cell_type": "code",
   "execution_count": 101,
   "metadata": {
    "collapsed": false
   },
   "outputs": [
    {
     "data": {
      "text/html": [
       "370.8761824169348"
      ],
      "text/plain": [
       "370.8761824169348"
      ]
     },
     "execution_count": 101,
     "metadata": {},
     "output_type": "execute_result"
    }
   ],
   "source": []
  },
  {
   "cell_type": "code",
   "execution_count": null,
   "metadata": {
    "collapsed": true
   },
   "outputs": [],
   "source": []
  },
  {
   "cell_type": "code",
   "execution_count": 111,
   "metadata": {
    "collapsed": false
   },
   "outputs": [
    {
     "name": "stderr",
     "output_type": "stream",
     "text": [
      "WARNING: Method definition dirmult_logpdf(Array{T<:Any, 1}, Array{T<:Any, 1}) in module Main at In[106]:8 overwritten at In[111]:8.\n",
      "\u001b[1m\u001b[31mWARNING: replacing docs for 'dirmult_logpdf :: Tuple{Array{T,1},Array{T,1}}' in module 'Main'.\u001b[0m\n",
      "WARNING: Method definition dirmult_logpdf!(Array{T<:Any, 1}, Array{T<:Any, 2}, Array{T<:Any, 1}) in module Main at In[106]:24 overwritten at In[111]:24.\n",
      "WARNING: Method definition dirmult_logpdf(Array{T<:Any, 2}, Array{T<:Any, 1}) in module Main at In[106]:37 overwritten at In[111]:37.\n",
      "\u001b[1m\u001b[31mWARNING: replacing docs for 'dirmult_logpdf :: Tuple{Array{T,2},Array{T,1}}' in module 'Main'.\u001b[0m\n"
     ]
    },
    {
     "data": {
      "text/plain": [
       "dirmult_logpdf"
      ]
     },
     "execution_count": 111,
     "metadata": {},
     "output_type": "execute_result"
    }
   ],
   "source": [
    "\"\"\"\n",
    "    dirmult_logpdf(x::Vector, α::Vector)\n",
    "    \n",
    "Compute the log-pdf of Dirichlet-multinomial distribution with parameter `α` \n",
    "at data point `x`.\n",
    "\"\"\"\n",
    "function dirmult_logpdf(x::Vector, α::Vector)\n",
    "    s = 0\n",
    "    result = 0\n",
    "    @inbounds for i in 1:length(x)\n",
    "        s += x[i]\n",
    "        result += sum(log(1:s)) - sum(log(1:x[i])) - sum(log(1:(s - x[i])))\n",
    "    end\n",
    "\n",
    "    storage = 0\n",
    "    for i in 1:length(x)\n",
    "        storage += lgamma(x[i] + α[i]) - lgamma(α[i])\n",
    "    end\n",
    "    \n",
    "    return result + storage - lgamma(sum(α) + sum(x)) + lgamma(sum(α))\n",
    "end\n",
    "\n",
    "function dirmult_logpdf!(r::Vector, X::Matrix, α::Vector)\n",
    "    for j in 1:size(X, 2)\n",
    "        r[j] = dirmult_logpdf(X[:, j], α)\n",
    "    end\n",
    "    return r\n",
    "end\n",
    "\n",
    "\"\"\"\n",
    "    dirmult_logpdf(X, α)\n",
    "    \n",
    "Compute the log-pdf of Dirichlet-multinomial distribution with parameter `α` \n",
    "at each data point in `X`. Each column of `X` is one data point.\n",
    "\"\"\"\n",
    "function dirmult_logpdf(X::Matrix, α::Vector)\n",
    "    r = zeros(size(X, 2))\n",
    "    dirmult_logpdf!(r, X, α)\n",
    "end"
   ]
  },
  {
   "cell_type": "code",
   "execution_count": 40,
   "metadata": {
    "collapsed": false
   },
   "outputs": [
    {
     "data": {
      "text/plain": [
       "3823-element Array{Int64,1}:\n",
       " 0\n",
       " 0\n",
       " 7\n",
       " 4\n",
       " 6\n",
       " 2\n",
       " 5\n",
       " 5\n",
       " 0\n",
       " 8\n",
       " 7\n",
       " 1\n",
       " 9\n",
       " ⋮\n",
       " 1\n",
       " 4\n",
       " 4\n",
       " 8\n",
       " 9\n",
       " 3\n",
       " 9\n",
       " 9\n",
       " 4\n",
       " 6\n",
       " 6\n",
       " 7"
      ]
     },
     "execution_count": 40,
     "metadata": {},
     "output_type": "execute_result"
    }
   ],
   "source": [
    "optdigits = readcsv(\"E:/Classes/BiostatisticsM280/Submissions/biostat-m280-JohnShamshoian/HW4/optdigits.tra\")\n",
    "training = Int64.(optdigits[:, 1:64])\n",
    "digits = Int64.(optdigits[:, 65])"
   ]
  },
  {
   "cell_type": "code",
   "execution_count": 76,
   "metadata": {
    "collapsed": false
   },
   "outputs": [
    {
     "data": {
      "text/html": [
       "-3.3322045101752042"
      ],
      "text/plain": [
       "-3.3322045101752042"
      ]
     },
     "execution_count": 76,
     "metadata": {},
     "output_type": "execute_result"
    }
   ],
   "source": [
    "dirmult_logpdf([1;2;3],[1;1;1])"
   ]
  },
  {
   "cell_type": "code",
   "execution_count": 47,
   "metadata": {
    "collapsed": false
   },
   "outputs": [
    {
     "data": {
      "text/plain": [
       "64-element Array{Int64,1}:\n",
       "  0\n",
       "  1\n",
       "  6\n",
       " 15\n",
       " 12\n",
       "  1\n",
       "  0\n",
       "  0\n",
       "  0\n",
       "  7\n",
       " 16\n",
       "  6\n",
       "  6\n",
       "  ⋮\n",
       " 15\n",
       "  9\n",
       "  0\n",
       "  0\n",
       "  0\n",
       "  0\n",
       "  6\n",
       " 14\n",
       "  7\n",
       "  1\n",
       "  0\n",
       "  0"
      ]
     },
     "execution_count": 47,
     "metadata": {},
     "output_type": "execute_result"
    }
   ],
   "source": [
    "training[1, :]"
   ]
  },
  {
   "cell_type": "code",
   "execution_count": 110,
   "metadata": {
    "collapsed": false
   },
   "outputs": [
    {
     "data": {
      "text/plain": [
       "3823-element Array{Float64,1}:\n",
       " -165.188\n",
       " -176.23 \n",
       " -167.774\n",
       " -165.564\n",
       " -157.79 \n",
       " -176.071\n",
       " -158.423\n",
       " -159.258\n",
       " -174.302\n",
       " -178.407\n",
       " -171.294\n",
       " -169.383\n",
       " -175.753\n",
       "    ⋮    \n",
       " -160.49 \n",
       " -158.633\n",
       " -156.935\n",
       " -171.975\n",
       " -177.638\n",
       " -169.735\n",
       " -158.423\n",
       " -159.465\n",
       " -159.877\n",
       " -169.735\n",
       " -173.149\n",
       " -155.411"
      ]
     },
     "execution_count": 110,
     "metadata": {},
     "output_type": "execute_result"
    }
   ],
   "source": [
    "dirmult_logpdf(training', ones(Int64, 64))"
   ]
  },
  {
   "cell_type": "markdown",
   "metadata": {},
   "source": [
    "## Q5\n",
    "\n"
   ]
  }
 ],
 "metadata": {
  "kernelspec": {
   "display_name": "Julia 0.5.1",
   "language": "julia",
   "name": "julia-0.5"
  },
  "language_info": {
   "file_extension": ".jl",
   "mimetype": "application/julia",
   "name": "julia",
   "version": "0.5.1"
  }
 },
 "nbformat": 4,
 "nbformat_minor": 2
}
