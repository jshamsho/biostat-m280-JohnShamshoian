{
 "cells": [
  {
   "cell_type": "markdown",
   "metadata": {},
   "source": [
    "John Shamshoian\n",
    "\n",
    "Homework 4\n",
    "\n",
    "# Problem 1\n",
    "\n",
    "If $\\mathbf{x} \\sim \\text{Multinomial}(\\mathbf{p})$ and $\\mathbf{p} \\sim \\text{Dir}(\\mathbf{\\alpha})$, then $p(\\mathbf{x}\\,|\\,\\mathbf{p},\\mathbf{\\alpha}) = p(\\mathbf{x}\\,|\\,\\mathbf{p})$. Using this fact, we have\n",
    "\n",
    "$$\n",
    "\\begin{align}\n",
    "p(\\mathbf{x}, \\mathbf{p}\\,|\\,\\mathbf{\\alpha})&=\\frac{p(\\mathbf{x},\\mathbf{p},\\mathbf{\\alpha})}{p(\\mathbf{\\alpha})}\\cdot\\frac{p(\\mathbf{p},\\mathbf{\\alpha})}{p(\\mathbf{p},\\mathbf{\\alpha})}\\\\\\\\\n",
    "&= p(\\mathbf{x}\\,|\\,\\mathbf{p},\\mathbf{\\alpha})\\cdot p(\\mathbf{p}\\,|\\,\\mathbf{\\alpha})\\\\\\\\\n",
    "&= p(\\mathbf{x}\\,|\\,\\mathbf{p})\\cdot p(\\mathbf{p}\\,|\\,\\mathbf{\\alpha})\n",
    "\\end{align}\n",
    "$$\n",
    "\n",
    "Hence, $p(\\mathbf{x},\\mathbf{p}\\,|\\,\\mathbf{\\alpha}) = \\text{Multinomial}(\\mathbf{p})\\cdot\\text{Dir}(\\mathbf{\\alpha}) = $"
   ]
  },
  {
   "cell_type": "code",
   "execution_count": null,
   "metadata": {
    "collapsed": true
   },
   "outputs": [],
   "source": []
  }
 ],
 "metadata": {
  "kernelspec": {
   "display_name": "Julia 0.5.1",
   "language": "julia",
   "name": "julia-0.5"
  },
  "language_info": {
   "file_extension": ".jl",
   "mimetype": "application/julia",
   "name": "julia",
   "version": "0.5.1"
  }
 },
 "nbformat": 4,
 "nbformat_minor": 2
}
